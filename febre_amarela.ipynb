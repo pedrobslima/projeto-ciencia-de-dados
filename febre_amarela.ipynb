{
  "nbformat": 4,
  "nbformat_minor": 0,
  "metadata": {
    "colab": {
      "provenance": []
    },
    "kernelspec": {
      "name": "python3",
      "display_name": "Python 3"
    },
    "language_info": {
      "name": "python"
    }
  },
  "cells": [
    {
      "cell_type": "code",
      "execution_count": null,
      "metadata": {
        "id": "EvPGRf5Y6l7M"
      },
      "outputs": [],
      "source": []
    }
  ]
}