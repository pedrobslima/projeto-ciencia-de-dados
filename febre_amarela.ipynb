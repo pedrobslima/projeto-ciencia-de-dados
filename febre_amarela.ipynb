{
  "nbformat": 4,
  "nbformat_minor": 0,
  "metadata": {
    "colab": {
      "provenance": [],
      "include_colab_link": true
    },
    "kernelspec": {
      "name": "python3",
      "display_name": "Python 3"
    },
    "language_info": {
      "name": "python"
    }
  },
  "cells": [
    {
      "cell_type": "markdown",
      "metadata": {
        "id": "view-in-github",
        "colab_type": "text"
      },
      "source": [
        "<a href=\"https://colab.research.google.com/github/pedrobslima/projeto-ciencia-de-dados/blob/main/febre_amarela.ipynb\" target=\"_parent\"><img src=\"https://colab.research.google.com/assets/colab-badge.svg\" alt=\"Open In Colab\"/></a>"
      ]
    },
    {
      "cell_type": "code",
      "execution_count": 72,
      "metadata": {
        "id": "EvPGRf5Y6l7M"
      },
      "outputs": [],
      "source": [
        "#import requests\n",
        "#from http.client import responses\n",
        "#from os.path import dirname\n",
        "#from os import environ\n",
        "#import inspect\n",
        "#import json\n",
        "#import gzip\n",
        "import pandas as pd\n",
        "import numpy as np\n",
        "#from time import sleep"
      ]
    },
    {
      "cell_type": "code",
      "source": [
        "df = pd.read_csv(\"/content/febre_amarela_macacos.csv\", encoding=\"ISO 8859-1\", sep=';', index_col=\"ID\")"
      ],
      "metadata": {
        "id": "uMKzvCOs_tM2"
      },
      "execution_count": 176,
      "outputs": []
    },
    {
      "cell_type": "markdown",
      "source": [
        "o problema foi que a codificação para byte dos caracteres com acentos gráficos errou; basicamente, o arquivo original foi escrito como ISO 8859-1 mas está sendo lido como UTF-8"
      ],
      "metadata": {
        "id": "Vv0gWKxuP7jz"
      }
    },
    {
      "cell_type": "code",
      "source": [
        "df.head()"
      ],
      "metadata": {
        "collapsed": true,
        "id": "5L_Luzh6kyvr",
        "outputId": "58ba4923-5322-464e-eff3-1f1c1a32be90",
        "colab": {
          "base_uri": "https://localhost:8080/",
          "height": 327
        }
      },
      "execution_count": 177,
      "outputs": [
        {
          "output_type": "stream",
          "name": "stderr",
          "text": [
            "/usr/local/lib/python3.10/dist-packages/google/colab/_dataframe_summarizer.py:88: UserWarning: Parsing dates in %d/%m/%Y format when dayfirst=False (the default) was specified. Pass `dayfirst=True` or specify a format to silence this warning.\n",
            "  cast_date_col = pd.to_datetime(column, errors=\"coerce\")\n"
          ]
        },
        {
          "output_type": "execute_result",
          "data": {
            "text/plain": [
              "   MACRORREG_OCOR  COD_UF_OCOR UF_OCOR  COD_MUN_OCOR  \\\n",
              "ID                                                     \n",
              "1              CO           52      GO        521100   \n",
              "2              CO           52      GO        521970   \n",
              "3              CO           52      GO        521520   \n",
              "4              SE           31      MG        310450   \n",
              "5              SE           31      MG        310820   \n",
              "\n",
              "                    MUN_OCOR DATA_OCOR  SE_OCOR  MES_OCOR  ANO_OCOR  \\\n",
              "ID                                                                    \n",
              "1                 ITAPIRAPUÃ       NaN      NaN       2.0      2000   \n",
              "2   SANTA TEREZINHA DE GOIÁS       NaN      NaN       NaN      2000   \n",
              "3                NOVO BRASIL       NaN      NaN       2.0      2000   \n",
              "4                     ARINOS       NaN      NaN       2.0      2000   \n",
              "5      BONFINÓPOLIS DE MINAS       NaN      NaN       4.0      2000   \n",
              "\n",
              "   MONITORAMENTO_OCOR  \n",
              "ID                     \n",
              "1           1999/2000  \n",
              "2           1999/2000  \n",
              "3           1999/2000  \n",
              "4           1999/2000  \n",
              "5           1999/2000  "
            ],
            "text/html": [
              "\n",
              "  <div id=\"df-8ff055d5-c628-4092-a6ad-259d399e14a0\" class=\"colab-df-container\">\n",
              "    <div>\n",
              "<style scoped>\n",
              "    .dataframe tbody tr th:only-of-type {\n",
              "        vertical-align: middle;\n",
              "    }\n",
              "\n",
              "    .dataframe tbody tr th {\n",
              "        vertical-align: top;\n",
              "    }\n",
              "\n",
              "    .dataframe thead th {\n",
              "        text-align: right;\n",
              "    }\n",
              "</style>\n",
              "<table border=\"1\" class=\"dataframe\">\n",
              "  <thead>\n",
              "    <tr style=\"text-align: right;\">\n",
              "      <th></th>\n",
              "      <th>MACRORREG_OCOR</th>\n",
              "      <th>COD_UF_OCOR</th>\n",
              "      <th>UF_OCOR</th>\n",
              "      <th>COD_MUN_OCOR</th>\n",
              "      <th>MUN_OCOR</th>\n",
              "      <th>DATA_OCOR</th>\n",
              "      <th>SE_OCOR</th>\n",
              "      <th>MES_OCOR</th>\n",
              "      <th>ANO_OCOR</th>\n",
              "      <th>MONITORAMENTO_OCOR</th>\n",
              "    </tr>\n",
              "    <tr>\n",
              "      <th>ID</th>\n",
              "      <th></th>\n",
              "      <th></th>\n",
              "      <th></th>\n",
              "      <th></th>\n",
              "      <th></th>\n",
              "      <th></th>\n",
              "      <th></th>\n",
              "      <th></th>\n",
              "      <th></th>\n",
              "      <th></th>\n",
              "    </tr>\n",
              "  </thead>\n",
              "  <tbody>\n",
              "    <tr>\n",
              "      <th>1</th>\n",
              "      <td>CO</td>\n",
              "      <td>52</td>\n",
              "      <td>GO</td>\n",
              "      <td>521100</td>\n",
              "      <td>ITAPIRAPUÃ</td>\n",
              "      <td>NaN</td>\n",
              "      <td>NaN</td>\n",
              "      <td>2.0</td>\n",
              "      <td>2000</td>\n",
              "      <td>1999/2000</td>\n",
              "    </tr>\n",
              "    <tr>\n",
              "      <th>2</th>\n",
              "      <td>CO</td>\n",
              "      <td>52</td>\n",
              "      <td>GO</td>\n",
              "      <td>521970</td>\n",
              "      <td>SANTA TEREZINHA DE GOIÁS</td>\n",
              "      <td>NaN</td>\n",
              "      <td>NaN</td>\n",
              "      <td>NaN</td>\n",
              "      <td>2000</td>\n",
              "      <td>1999/2000</td>\n",
              "    </tr>\n",
              "    <tr>\n",
              "      <th>3</th>\n",
              "      <td>CO</td>\n",
              "      <td>52</td>\n",
              "      <td>GO</td>\n",
              "      <td>521520</td>\n",
              "      <td>NOVO BRASIL</td>\n",
              "      <td>NaN</td>\n",
              "      <td>NaN</td>\n",
              "      <td>2.0</td>\n",
              "      <td>2000</td>\n",
              "      <td>1999/2000</td>\n",
              "    </tr>\n",
              "    <tr>\n",
              "      <th>4</th>\n",
              "      <td>SE</td>\n",
              "      <td>31</td>\n",
              "      <td>MG</td>\n",
              "      <td>310450</td>\n",
              "      <td>ARINOS</td>\n",
              "      <td>NaN</td>\n",
              "      <td>NaN</td>\n",
              "      <td>2.0</td>\n",
              "      <td>2000</td>\n",
              "      <td>1999/2000</td>\n",
              "    </tr>\n",
              "    <tr>\n",
              "      <th>5</th>\n",
              "      <td>SE</td>\n",
              "      <td>31</td>\n",
              "      <td>MG</td>\n",
              "      <td>310820</td>\n",
              "      <td>BONFINÓPOLIS DE MINAS</td>\n",
              "      <td>NaN</td>\n",
              "      <td>NaN</td>\n",
              "      <td>4.0</td>\n",
              "      <td>2000</td>\n",
              "      <td>1999/2000</td>\n",
              "    </tr>\n",
              "  </tbody>\n",
              "</table>\n",
              "</div>\n",
              "    <div class=\"colab-df-buttons\">\n",
              "\n",
              "  <div class=\"colab-df-container\">\n",
              "    <button class=\"colab-df-convert\" onclick=\"convertToInteractive('df-8ff055d5-c628-4092-a6ad-259d399e14a0')\"\n",
              "            title=\"Convert this dataframe to an interactive table.\"\n",
              "            style=\"display:none;\">\n",
              "\n",
              "  <svg xmlns=\"http://www.w3.org/2000/svg\" height=\"24px\" viewBox=\"0 -960 960 960\">\n",
              "    <path d=\"M120-120v-720h720v720H120Zm60-500h600v-160H180v160Zm220 220h160v-160H400v160Zm0 220h160v-160H400v160ZM180-400h160v-160H180v160Zm440 0h160v-160H620v160ZM180-180h160v-160H180v160Zm440 0h160v-160H620v160Z\"/>\n",
              "  </svg>\n",
              "    </button>\n",
              "\n",
              "  <style>\n",
              "    .colab-df-container {\n",
              "      display:flex;\n",
              "      gap: 12px;\n",
              "    }\n",
              "\n",
              "    .colab-df-convert {\n",
              "      background-color: #E8F0FE;\n",
              "      border: none;\n",
              "      border-radius: 50%;\n",
              "      cursor: pointer;\n",
              "      display: none;\n",
              "      fill: #1967D2;\n",
              "      height: 32px;\n",
              "      padding: 0 0 0 0;\n",
              "      width: 32px;\n",
              "    }\n",
              "\n",
              "    .colab-df-convert:hover {\n",
              "      background-color: #E2EBFA;\n",
              "      box-shadow: 0px 1px 2px rgba(60, 64, 67, 0.3), 0px 1px 3px 1px rgba(60, 64, 67, 0.15);\n",
              "      fill: #174EA6;\n",
              "    }\n",
              "\n",
              "    .colab-df-buttons div {\n",
              "      margin-bottom: 4px;\n",
              "    }\n",
              "\n",
              "    [theme=dark] .colab-df-convert {\n",
              "      background-color: #3B4455;\n",
              "      fill: #D2E3FC;\n",
              "    }\n",
              "\n",
              "    [theme=dark] .colab-df-convert:hover {\n",
              "      background-color: #434B5C;\n",
              "      box-shadow: 0px 1px 3px 1px rgba(0, 0, 0, 0.15);\n",
              "      filter: drop-shadow(0px 1px 2px rgba(0, 0, 0, 0.3));\n",
              "      fill: #FFFFFF;\n",
              "    }\n",
              "  </style>\n",
              "\n",
              "    <script>\n",
              "      const buttonEl =\n",
              "        document.querySelector('#df-8ff055d5-c628-4092-a6ad-259d399e14a0 button.colab-df-convert');\n",
              "      buttonEl.style.display =\n",
              "        google.colab.kernel.accessAllowed ? 'block' : 'none';\n",
              "\n",
              "      async function convertToInteractive(key) {\n",
              "        const element = document.querySelector('#df-8ff055d5-c628-4092-a6ad-259d399e14a0');\n",
              "        const dataTable =\n",
              "          await google.colab.kernel.invokeFunction('convertToInteractive',\n",
              "                                                    [key], {});\n",
              "        if (!dataTable) return;\n",
              "\n",
              "        const docLinkHtml = 'Like what you see? Visit the ' +\n",
              "          '<a target=\"_blank\" href=https://colab.research.google.com/notebooks/data_table.ipynb>data table notebook</a>'\n",
              "          + ' to learn more about interactive tables.';\n",
              "        element.innerHTML = '';\n",
              "        dataTable['output_type'] = 'display_data';\n",
              "        await google.colab.output.renderOutput(dataTable, element);\n",
              "        const docLink = document.createElement('div');\n",
              "        docLink.innerHTML = docLinkHtml;\n",
              "        element.appendChild(docLink);\n",
              "      }\n",
              "    </script>\n",
              "  </div>\n",
              "\n",
              "\n",
              "<div id=\"df-9cfd4606-ac97-4561-ba5b-5546d4599179\">\n",
              "  <button class=\"colab-df-quickchart\" onclick=\"quickchart('df-9cfd4606-ac97-4561-ba5b-5546d4599179')\"\n",
              "            title=\"Suggest charts\"\n",
              "            style=\"display:none;\">\n",
              "\n",
              "<svg xmlns=\"http://www.w3.org/2000/svg\" height=\"24px\"viewBox=\"0 0 24 24\"\n",
              "     width=\"24px\">\n",
              "    <g>\n",
              "        <path d=\"M19 3H5c-1.1 0-2 .9-2 2v14c0 1.1.9 2 2 2h14c1.1 0 2-.9 2-2V5c0-1.1-.9-2-2-2zM9 17H7v-7h2v7zm4 0h-2V7h2v10zm4 0h-2v-4h2v4z\"/>\n",
              "    </g>\n",
              "</svg>\n",
              "  </button>\n",
              "\n",
              "<style>\n",
              "  .colab-df-quickchart {\n",
              "      --bg-color: #E8F0FE;\n",
              "      --fill-color: #1967D2;\n",
              "      --hover-bg-color: #E2EBFA;\n",
              "      --hover-fill-color: #174EA6;\n",
              "      --disabled-fill-color: #AAA;\n",
              "      --disabled-bg-color: #DDD;\n",
              "  }\n",
              "\n",
              "  [theme=dark] .colab-df-quickchart {\n",
              "      --bg-color: #3B4455;\n",
              "      --fill-color: #D2E3FC;\n",
              "      --hover-bg-color: #434B5C;\n",
              "      --hover-fill-color: #FFFFFF;\n",
              "      --disabled-bg-color: #3B4455;\n",
              "      --disabled-fill-color: #666;\n",
              "  }\n",
              "\n",
              "  .colab-df-quickchart {\n",
              "    background-color: var(--bg-color);\n",
              "    border: none;\n",
              "    border-radius: 50%;\n",
              "    cursor: pointer;\n",
              "    display: none;\n",
              "    fill: var(--fill-color);\n",
              "    height: 32px;\n",
              "    padding: 0;\n",
              "    width: 32px;\n",
              "  }\n",
              "\n",
              "  .colab-df-quickchart:hover {\n",
              "    background-color: var(--hover-bg-color);\n",
              "    box-shadow: 0 1px 2px rgba(60, 64, 67, 0.3), 0 1px 3px 1px rgba(60, 64, 67, 0.15);\n",
              "    fill: var(--button-hover-fill-color);\n",
              "  }\n",
              "\n",
              "  .colab-df-quickchart-complete:disabled,\n",
              "  .colab-df-quickchart-complete:disabled:hover {\n",
              "    background-color: var(--disabled-bg-color);\n",
              "    fill: var(--disabled-fill-color);\n",
              "    box-shadow: none;\n",
              "  }\n",
              "\n",
              "  .colab-df-spinner {\n",
              "    border: 2px solid var(--fill-color);\n",
              "    border-color: transparent;\n",
              "    border-bottom-color: var(--fill-color);\n",
              "    animation:\n",
              "      spin 1s steps(1) infinite;\n",
              "  }\n",
              "\n",
              "  @keyframes spin {\n",
              "    0% {\n",
              "      border-color: transparent;\n",
              "      border-bottom-color: var(--fill-color);\n",
              "      border-left-color: var(--fill-color);\n",
              "    }\n",
              "    20% {\n",
              "      border-color: transparent;\n",
              "      border-left-color: var(--fill-color);\n",
              "      border-top-color: var(--fill-color);\n",
              "    }\n",
              "    30% {\n",
              "      border-color: transparent;\n",
              "      border-left-color: var(--fill-color);\n",
              "      border-top-color: var(--fill-color);\n",
              "      border-right-color: var(--fill-color);\n",
              "    }\n",
              "    40% {\n",
              "      border-color: transparent;\n",
              "      border-right-color: var(--fill-color);\n",
              "      border-top-color: var(--fill-color);\n",
              "    }\n",
              "    60% {\n",
              "      border-color: transparent;\n",
              "      border-right-color: var(--fill-color);\n",
              "    }\n",
              "    80% {\n",
              "      border-color: transparent;\n",
              "      border-right-color: var(--fill-color);\n",
              "      border-bottom-color: var(--fill-color);\n",
              "    }\n",
              "    90% {\n",
              "      border-color: transparent;\n",
              "      border-bottom-color: var(--fill-color);\n",
              "    }\n",
              "  }\n",
              "</style>\n",
              "\n",
              "  <script>\n",
              "    async function quickchart(key) {\n",
              "      const quickchartButtonEl =\n",
              "        document.querySelector('#' + key + ' button');\n",
              "      quickchartButtonEl.disabled = true;  // To prevent multiple clicks.\n",
              "      quickchartButtonEl.classList.add('colab-df-spinner');\n",
              "      try {\n",
              "        const charts = await google.colab.kernel.invokeFunction(\n",
              "            'suggestCharts', [key], {});\n",
              "      } catch (error) {\n",
              "        console.error('Error during call to suggestCharts:', error);\n",
              "      }\n",
              "      quickchartButtonEl.classList.remove('colab-df-spinner');\n",
              "      quickchartButtonEl.classList.add('colab-df-quickchart-complete');\n",
              "    }\n",
              "    (() => {\n",
              "      let quickchartButtonEl =\n",
              "        document.querySelector('#df-9cfd4606-ac97-4561-ba5b-5546d4599179 button');\n",
              "      quickchartButtonEl.style.display =\n",
              "        google.colab.kernel.accessAllowed ? 'block' : 'none';\n",
              "    })();\n",
              "  </script>\n",
              "</div>\n",
              "    </div>\n",
              "  </div>\n"
            ],
            "application/vnd.google.colaboratory.intrinsic+json": {
              "type": "dataframe",
              "variable_name": "df",
              "summary": "{\n  \"name\": \"df\",\n  \"rows\": 2460,\n  \"fields\": [\n    {\n      \"column\": \"ID\",\n      \"properties\": {\n        \"dtype\": \"number\",\n        \"std\": 710,\n        \"min\": 1,\n        \"max\": 2460,\n        \"num_unique_values\": 2460,\n        \"samples\": [\n          1950,\n          1481,\n          1088\n        ],\n        \"semantic_type\": \"\",\n        \"description\": \"\"\n      }\n    },\n    {\n      \"column\": \"MACRORREG_OCOR\",\n      \"properties\": {\n        \"dtype\": \"category\",\n        \"num_unique_values\": 5,\n        \"samples\": [\n          \"SE\",\n          \"NE\",\n          \"S\"\n        ],\n        \"semantic_type\": \"\",\n        \"description\": \"\"\n      }\n    },\n    {\n      \"column\": \"COD_UF_OCOR\",\n      \"properties\": {\n        \"dtype\": \"number\",\n        \"std\": 6,\n        \"min\": 11,\n        \"max\": 53,\n        \"num_unique_values\": 17,\n        \"samples\": [\n          52,\n          31,\n          35\n        ],\n        \"semantic_type\": \"\",\n        \"description\": \"\"\n      }\n    },\n    {\n      \"column\": \"UF_OCOR\",\n      \"properties\": {\n        \"dtype\": \"category\",\n        \"num_unique_values\": 18,\n        \"samples\": [\n          \"GO\",\n          \"MG\",\n          \"ES\"\n        ],\n        \"semantic_type\": \"\",\n        \"description\": \"\"\n      }\n    },\n    {\n      \"column\": \"COD_MUN_OCOR\",\n      \"properties\": {\n        \"dtype\": \"number\",\n        \"std\": 59588,\n        \"min\": 110020,\n        \"max\": 530010,\n        \"num_unique_values\": 594,\n        \"samples\": [\n          500320,\n          312740,\n          310670\n        ],\n        \"semantic_type\": \"\",\n        \"description\": \"\"\n      }\n    },\n    {\n      \"column\": \"MUN_OCOR\",\n      \"properties\": {\n        \"dtype\": \"category\",\n        \"num_unique_values\": 591,\n        \"samples\": [\n          \"ITUPEVA\",\n          \"PALMEIR\\u00d3POLIS\",\n          \"CAPIT\\u00c3O EN\\u00c9AS\"\n        ],\n        \"semantic_type\": \"\",\n        \"description\": \"\"\n      }\n    },\n    {\n      \"column\": \"DATA_OCOR\",\n      \"properties\": {\n        \"dtype\": \"date\",\n        \"min\": \"2002-11-14 00:00:00\",\n        \"max\": \"2023-11-16 00:00:00\",\n        \"num_unique_values\": 883,\n        \"samples\": [\n          \"20/03/2009\",\n          \"17/03/2021\",\n          \"17/10/2020\"\n        ],\n        \"semantic_type\": \"\",\n        \"description\": \"\"\n      }\n    },\n    {\n      \"column\": \"SE_OCOR\",\n      \"properties\": {\n        \"dtype\": \"number\",\n        \"std\": 17.080959921733193,\n        \"min\": 1.0,\n        \"max\": 53.0,\n        \"num_unique_values\": 53,\n        \"samples\": [\n          16.0,\n          34.0,\n          44.0\n        ],\n        \"semantic_type\": \"\",\n        \"description\": \"\"\n      }\n    },\n    {\n      \"column\": \"MES_OCOR\",\n      \"properties\": {\n        \"dtype\": \"number\",\n        \"std\": 3.9463955869063363,\n        \"min\": 1.0,\n        \"max\": 12.0,\n        \"num_unique_values\": 12,\n        \"samples\": [\n          9.0,\n          3.0,\n          2.0\n        ],\n        \"semantic_type\": \"\",\n        \"description\": \"\"\n      }\n    },\n    {\n      \"column\": \"ANO_OCOR\",\n      \"properties\": {\n        \"dtype\": \"number\",\n        \"std\": 3,\n        \"min\": 2000,\n        \"max\": 2023,\n        \"num_unique_values\": 17,\n        \"samples\": [\n          2000,\n          2001,\n          2008\n        ],\n        \"semantic_type\": \"\",\n        \"description\": \"\"\n      }\n    },\n    {\n      \"column\": \"MONITORAMENTO_OCOR\",\n      \"properties\": {\n        \"dtype\": \"category\",\n        \"num_unique_values\": 16,\n        \"samples\": [\n          \"1999/2000\",\n          \"2000/2001\",\n          \"2006/2007\"\n        ],\n        \"semantic_type\": \"\",\n        \"description\": \"\"\n      }\n    }\n  ]\n}"
            }
          },
          "metadata": {},
          "execution_count": 177
        }
      ]
    },
    {
      "cell_type": "code",
      "source": [
        "df.DATA_OCOR = pd.to_datetime(df.DATA_OCOR, dayfirst=True)"
      ],
      "metadata": {
        "id": "22fRTke-l3YJ"
      },
      "execution_count": 178,
      "outputs": []
    },
    {
      "cell_type": "code",
      "source": [
        "df.head(15)"
      ],
      "metadata": {
        "id": "NCb22UByl5L-",
        "outputId": "0a649970-827c-4cbd-9d00-468af0645300",
        "colab": {
          "base_uri": "https://localhost:8080/",
          "height": 551
        }
      },
      "execution_count": 179,
      "outputs": [
        {
          "output_type": "execute_result",
          "data": {
            "text/plain": [
              "   MACRORREG_OCOR  COD_UF_OCOR UF_OCOR  COD_MUN_OCOR  \\\n",
              "ID                                                     \n",
              "1              CO           52      GO        521100   \n",
              "2              CO           52      GO        521970   \n",
              "3              CO           52      GO        521520   \n",
              "4              SE           31      MG        310450   \n",
              "5              SE           31      MG        310820   \n",
              "6              SE           31      MG        313862   \n",
              "7               S           43      RS        431770   \n",
              "8               S           43      RS        430865   \n",
              "9               S           43      RS        431110   \n",
              "10             SE           31      MG        315980   \n",
              "11              S           43      RS        431740   \n",
              "12             CO           52      GO        520140   \n",
              "13             CO           52      GO        520140   \n",
              "14             CO           52      GO        520140   \n",
              "15             CO           52      GO        520140   \n",
              "\n",
              "                     MUN_OCOR  DATA_OCOR  SE_OCOR  MES_OCOR  ANO_OCOR  \\\n",
              "ID                                                                      \n",
              "1                  ITAPIRAPUÃ        NaT      NaN       2.0      2000   \n",
              "2    SANTA TEREZINHA DE GOIÁS        NaT      NaN       NaN      2000   \n",
              "3                 NOVO BRASIL        NaT      NaN       2.0      2000   \n",
              "4                      ARINOS        NaT      NaN       2.0      2000   \n",
              "5       BONFINÓPOLIS DE MINAS        NaT      NaN       4.0      2000   \n",
              "6            LIMEIRA DO OESTE        NaT      NaN       7.0      2001   \n",
              "7   SANTO ANTÔNIO DAS MISSÕES        NaT      NaN       6.0      2001   \n",
              "8                   GARRUCHOS        NaT      NaN       5.0      2001   \n",
              "9                     JAGUARI 2002-11-14     46.0      11.0      2002   \n",
              "10              SANTA VITÓRIA        NaT      NaN      11.0      2002   \n",
              "11                   SANTIAGO        NaT      NaN       1.0      2003   \n",
              "12       APARECIDA DE GOIÂNIA 2007-10-01     40.0      10.0      2007   \n",
              "13       APARECIDA DE GOIÂNIA 2007-12-01     48.0      12.0      2007   \n",
              "14       APARECIDA DE GOIÂNIA 2008-10-08     41.0      10.0      2008   \n",
              "15       APARECIDA DE GOIÂNIA 2008-01-01      1.0       1.0      2008   \n",
              "\n",
              "   MONITORAMENTO_OCOR  \n",
              "ID                     \n",
              "1           1999/2000  \n",
              "2           1999/2000  \n",
              "3           1999/2000  \n",
              "4           1999/2000  \n",
              "5           1999/2000  \n",
              "6           2000/2001  \n",
              "7           2000/2001  \n",
              "8           2000/2001  \n",
              "9           2002/2003  \n",
              "10          2002/2003  \n",
              "11          2002/2003  \n",
              "12          2007/2008  \n",
              "13          2007/2008  \n",
              "14          2008/2009  \n",
              "15          2007/2008  "
            ],
            "text/html": [
              "\n",
              "  <div id=\"df-1d05c18b-4ebf-4706-acfe-345ec6aa1f6b\" class=\"colab-df-container\">\n",
              "    <div>\n",
              "<style scoped>\n",
              "    .dataframe tbody tr th:only-of-type {\n",
              "        vertical-align: middle;\n",
              "    }\n",
              "\n",
              "    .dataframe tbody tr th {\n",
              "        vertical-align: top;\n",
              "    }\n",
              "\n",
              "    .dataframe thead th {\n",
              "        text-align: right;\n",
              "    }\n",
              "</style>\n",
              "<table border=\"1\" class=\"dataframe\">\n",
              "  <thead>\n",
              "    <tr style=\"text-align: right;\">\n",
              "      <th></th>\n",
              "      <th>MACRORREG_OCOR</th>\n",
              "      <th>COD_UF_OCOR</th>\n",
              "      <th>UF_OCOR</th>\n",
              "      <th>COD_MUN_OCOR</th>\n",
              "      <th>MUN_OCOR</th>\n",
              "      <th>DATA_OCOR</th>\n",
              "      <th>SE_OCOR</th>\n",
              "      <th>MES_OCOR</th>\n",
              "      <th>ANO_OCOR</th>\n",
              "      <th>MONITORAMENTO_OCOR</th>\n",
              "    </tr>\n",
              "    <tr>\n",
              "      <th>ID</th>\n",
              "      <th></th>\n",
              "      <th></th>\n",
              "      <th></th>\n",
              "      <th></th>\n",
              "      <th></th>\n",
              "      <th></th>\n",
              "      <th></th>\n",
              "      <th></th>\n",
              "      <th></th>\n",
              "      <th></th>\n",
              "    </tr>\n",
              "  </thead>\n",
              "  <tbody>\n",
              "    <tr>\n",
              "      <th>1</th>\n",
              "      <td>CO</td>\n",
              "      <td>52</td>\n",
              "      <td>GO</td>\n",
              "      <td>521100</td>\n",
              "      <td>ITAPIRAPUÃ</td>\n",
              "      <td>NaT</td>\n",
              "      <td>NaN</td>\n",
              "      <td>2.0</td>\n",
              "      <td>2000</td>\n",
              "      <td>1999/2000</td>\n",
              "    </tr>\n",
              "    <tr>\n",
              "      <th>2</th>\n",
              "      <td>CO</td>\n",
              "      <td>52</td>\n",
              "      <td>GO</td>\n",
              "      <td>521970</td>\n",
              "      <td>SANTA TEREZINHA DE GOIÁS</td>\n",
              "      <td>NaT</td>\n",
              "      <td>NaN</td>\n",
              "      <td>NaN</td>\n",
              "      <td>2000</td>\n",
              "      <td>1999/2000</td>\n",
              "    </tr>\n",
              "    <tr>\n",
              "      <th>3</th>\n",
              "      <td>CO</td>\n",
              "      <td>52</td>\n",
              "      <td>GO</td>\n",
              "      <td>521520</td>\n",
              "      <td>NOVO BRASIL</td>\n",
              "      <td>NaT</td>\n",
              "      <td>NaN</td>\n",
              "      <td>2.0</td>\n",
              "      <td>2000</td>\n",
              "      <td>1999/2000</td>\n",
              "    </tr>\n",
              "    <tr>\n",
              "      <th>4</th>\n",
              "      <td>SE</td>\n",
              "      <td>31</td>\n",
              "      <td>MG</td>\n",
              "      <td>310450</td>\n",
              "      <td>ARINOS</td>\n",
              "      <td>NaT</td>\n",
              "      <td>NaN</td>\n",
              "      <td>2.0</td>\n",
              "      <td>2000</td>\n",
              "      <td>1999/2000</td>\n",
              "    </tr>\n",
              "    <tr>\n",
              "      <th>5</th>\n",
              "      <td>SE</td>\n",
              "      <td>31</td>\n",
              "      <td>MG</td>\n",
              "      <td>310820</td>\n",
              "      <td>BONFINÓPOLIS DE MINAS</td>\n",
              "      <td>NaT</td>\n",
              "      <td>NaN</td>\n",
              "      <td>4.0</td>\n",
              "      <td>2000</td>\n",
              "      <td>1999/2000</td>\n",
              "    </tr>\n",
              "    <tr>\n",
              "      <th>6</th>\n",
              "      <td>SE</td>\n",
              "      <td>31</td>\n",
              "      <td>MG</td>\n",
              "      <td>313862</td>\n",
              "      <td>LIMEIRA DO OESTE</td>\n",
              "      <td>NaT</td>\n",
              "      <td>NaN</td>\n",
              "      <td>7.0</td>\n",
              "      <td>2001</td>\n",
              "      <td>2000/2001</td>\n",
              "    </tr>\n",
              "    <tr>\n",
              "      <th>7</th>\n",
              "      <td>S</td>\n",
              "      <td>43</td>\n",
              "      <td>RS</td>\n",
              "      <td>431770</td>\n",
              "      <td>SANTO ANTÔNIO DAS MISSÕES</td>\n",
              "      <td>NaT</td>\n",
              "      <td>NaN</td>\n",
              "      <td>6.0</td>\n",
              "      <td>2001</td>\n",
              "      <td>2000/2001</td>\n",
              "    </tr>\n",
              "    <tr>\n",
              "      <th>8</th>\n",
              "      <td>S</td>\n",
              "      <td>43</td>\n",
              "      <td>RS</td>\n",
              "      <td>430865</td>\n",
              "      <td>GARRUCHOS</td>\n",
              "      <td>NaT</td>\n",
              "      <td>NaN</td>\n",
              "      <td>5.0</td>\n",
              "      <td>2001</td>\n",
              "      <td>2000/2001</td>\n",
              "    </tr>\n",
              "    <tr>\n",
              "      <th>9</th>\n",
              "      <td>S</td>\n",
              "      <td>43</td>\n",
              "      <td>RS</td>\n",
              "      <td>431110</td>\n",
              "      <td>JAGUARI</td>\n",
              "      <td>2002-11-14</td>\n",
              "      <td>46.0</td>\n",
              "      <td>11.0</td>\n",
              "      <td>2002</td>\n",
              "      <td>2002/2003</td>\n",
              "    </tr>\n",
              "    <tr>\n",
              "      <th>10</th>\n",
              "      <td>SE</td>\n",
              "      <td>31</td>\n",
              "      <td>MG</td>\n",
              "      <td>315980</td>\n",
              "      <td>SANTA VITÓRIA</td>\n",
              "      <td>NaT</td>\n",
              "      <td>NaN</td>\n",
              "      <td>11.0</td>\n",
              "      <td>2002</td>\n",
              "      <td>2002/2003</td>\n",
              "    </tr>\n",
              "    <tr>\n",
              "      <th>11</th>\n",
              "      <td>S</td>\n",
              "      <td>43</td>\n",
              "      <td>RS</td>\n",
              "      <td>431740</td>\n",
              "      <td>SANTIAGO</td>\n",
              "      <td>NaT</td>\n",
              "      <td>NaN</td>\n",
              "      <td>1.0</td>\n",
              "      <td>2003</td>\n",
              "      <td>2002/2003</td>\n",
              "    </tr>\n",
              "    <tr>\n",
              "      <th>12</th>\n",
              "      <td>CO</td>\n",
              "      <td>52</td>\n",
              "      <td>GO</td>\n",
              "      <td>520140</td>\n",
              "      <td>APARECIDA DE GOIÂNIA</td>\n",
              "      <td>2007-10-01</td>\n",
              "      <td>40.0</td>\n",
              "      <td>10.0</td>\n",
              "      <td>2007</td>\n",
              "      <td>2007/2008</td>\n",
              "    </tr>\n",
              "    <tr>\n",
              "      <th>13</th>\n",
              "      <td>CO</td>\n",
              "      <td>52</td>\n",
              "      <td>GO</td>\n",
              "      <td>520140</td>\n",
              "      <td>APARECIDA DE GOIÂNIA</td>\n",
              "      <td>2007-12-01</td>\n",
              "      <td>48.0</td>\n",
              "      <td>12.0</td>\n",
              "      <td>2007</td>\n",
              "      <td>2007/2008</td>\n",
              "    </tr>\n",
              "    <tr>\n",
              "      <th>14</th>\n",
              "      <td>CO</td>\n",
              "      <td>52</td>\n",
              "      <td>GO</td>\n",
              "      <td>520140</td>\n",
              "      <td>APARECIDA DE GOIÂNIA</td>\n",
              "      <td>2008-10-08</td>\n",
              "      <td>41.0</td>\n",
              "      <td>10.0</td>\n",
              "      <td>2008</td>\n",
              "      <td>2008/2009</td>\n",
              "    </tr>\n",
              "    <tr>\n",
              "      <th>15</th>\n",
              "      <td>CO</td>\n",
              "      <td>52</td>\n",
              "      <td>GO</td>\n",
              "      <td>520140</td>\n",
              "      <td>APARECIDA DE GOIÂNIA</td>\n",
              "      <td>2008-01-01</td>\n",
              "      <td>1.0</td>\n",
              "      <td>1.0</td>\n",
              "      <td>2008</td>\n",
              "      <td>2007/2008</td>\n",
              "    </tr>\n",
              "  </tbody>\n",
              "</table>\n",
              "</div>\n",
              "    <div class=\"colab-df-buttons\">\n",
              "\n",
              "  <div class=\"colab-df-container\">\n",
              "    <button class=\"colab-df-convert\" onclick=\"convertToInteractive('df-1d05c18b-4ebf-4706-acfe-345ec6aa1f6b')\"\n",
              "            title=\"Convert this dataframe to an interactive table.\"\n",
              "            style=\"display:none;\">\n",
              "\n",
              "  <svg xmlns=\"http://www.w3.org/2000/svg\" height=\"24px\" viewBox=\"0 -960 960 960\">\n",
              "    <path d=\"M120-120v-720h720v720H120Zm60-500h600v-160H180v160Zm220 220h160v-160H400v160Zm0 220h160v-160H400v160ZM180-400h160v-160H180v160Zm440 0h160v-160H620v160ZM180-180h160v-160H180v160Zm440 0h160v-160H620v160Z\"/>\n",
              "  </svg>\n",
              "    </button>\n",
              "\n",
              "  <style>\n",
              "    .colab-df-container {\n",
              "      display:flex;\n",
              "      gap: 12px;\n",
              "    }\n",
              "\n",
              "    .colab-df-convert {\n",
              "      background-color: #E8F0FE;\n",
              "      border: none;\n",
              "      border-radius: 50%;\n",
              "      cursor: pointer;\n",
              "      display: none;\n",
              "      fill: #1967D2;\n",
              "      height: 32px;\n",
              "      padding: 0 0 0 0;\n",
              "      width: 32px;\n",
              "    }\n",
              "\n",
              "    .colab-df-convert:hover {\n",
              "      background-color: #E2EBFA;\n",
              "      box-shadow: 0px 1px 2px rgba(60, 64, 67, 0.3), 0px 1px 3px 1px rgba(60, 64, 67, 0.15);\n",
              "      fill: #174EA6;\n",
              "    }\n",
              "\n",
              "    .colab-df-buttons div {\n",
              "      margin-bottom: 4px;\n",
              "    }\n",
              "\n",
              "    [theme=dark] .colab-df-convert {\n",
              "      background-color: #3B4455;\n",
              "      fill: #D2E3FC;\n",
              "    }\n",
              "\n",
              "    [theme=dark] .colab-df-convert:hover {\n",
              "      background-color: #434B5C;\n",
              "      box-shadow: 0px 1px 3px 1px rgba(0, 0, 0, 0.15);\n",
              "      filter: drop-shadow(0px 1px 2px rgba(0, 0, 0, 0.3));\n",
              "      fill: #FFFFFF;\n",
              "    }\n",
              "  </style>\n",
              "\n",
              "    <script>\n",
              "      const buttonEl =\n",
              "        document.querySelector('#df-1d05c18b-4ebf-4706-acfe-345ec6aa1f6b button.colab-df-convert');\n",
              "      buttonEl.style.display =\n",
              "        google.colab.kernel.accessAllowed ? 'block' : 'none';\n",
              "\n",
              "      async function convertToInteractive(key) {\n",
              "        const element = document.querySelector('#df-1d05c18b-4ebf-4706-acfe-345ec6aa1f6b');\n",
              "        const dataTable =\n",
              "          await google.colab.kernel.invokeFunction('convertToInteractive',\n",
              "                                                    [key], {});\n",
              "        if (!dataTable) return;\n",
              "\n",
              "        const docLinkHtml = 'Like what you see? Visit the ' +\n",
              "          '<a target=\"_blank\" href=https://colab.research.google.com/notebooks/data_table.ipynb>data table notebook</a>'\n",
              "          + ' to learn more about interactive tables.';\n",
              "        element.innerHTML = '';\n",
              "        dataTable['output_type'] = 'display_data';\n",
              "        await google.colab.output.renderOutput(dataTable, element);\n",
              "        const docLink = document.createElement('div');\n",
              "        docLink.innerHTML = docLinkHtml;\n",
              "        element.appendChild(docLink);\n",
              "      }\n",
              "    </script>\n",
              "  </div>\n",
              "\n",
              "\n",
              "<div id=\"df-038eaf00-1df5-4e16-8e93-2df6db487d76\">\n",
              "  <button class=\"colab-df-quickchart\" onclick=\"quickchart('df-038eaf00-1df5-4e16-8e93-2df6db487d76')\"\n",
              "            title=\"Suggest charts\"\n",
              "            style=\"display:none;\">\n",
              "\n",
              "<svg xmlns=\"http://www.w3.org/2000/svg\" height=\"24px\"viewBox=\"0 0 24 24\"\n",
              "     width=\"24px\">\n",
              "    <g>\n",
              "        <path d=\"M19 3H5c-1.1 0-2 .9-2 2v14c0 1.1.9 2 2 2h14c1.1 0 2-.9 2-2V5c0-1.1-.9-2-2-2zM9 17H7v-7h2v7zm4 0h-2V7h2v10zm4 0h-2v-4h2v4z\"/>\n",
              "    </g>\n",
              "</svg>\n",
              "  </button>\n",
              "\n",
              "<style>\n",
              "  .colab-df-quickchart {\n",
              "      --bg-color: #E8F0FE;\n",
              "      --fill-color: #1967D2;\n",
              "      --hover-bg-color: #E2EBFA;\n",
              "      --hover-fill-color: #174EA6;\n",
              "      --disabled-fill-color: #AAA;\n",
              "      --disabled-bg-color: #DDD;\n",
              "  }\n",
              "\n",
              "  [theme=dark] .colab-df-quickchart {\n",
              "      --bg-color: #3B4455;\n",
              "      --fill-color: #D2E3FC;\n",
              "      --hover-bg-color: #434B5C;\n",
              "      --hover-fill-color: #FFFFFF;\n",
              "      --disabled-bg-color: #3B4455;\n",
              "      --disabled-fill-color: #666;\n",
              "  }\n",
              "\n",
              "  .colab-df-quickchart {\n",
              "    background-color: var(--bg-color);\n",
              "    border: none;\n",
              "    border-radius: 50%;\n",
              "    cursor: pointer;\n",
              "    display: none;\n",
              "    fill: var(--fill-color);\n",
              "    height: 32px;\n",
              "    padding: 0;\n",
              "    width: 32px;\n",
              "  }\n",
              "\n",
              "  .colab-df-quickchart:hover {\n",
              "    background-color: var(--hover-bg-color);\n",
              "    box-shadow: 0 1px 2px rgba(60, 64, 67, 0.3), 0 1px 3px 1px rgba(60, 64, 67, 0.15);\n",
              "    fill: var(--button-hover-fill-color);\n",
              "  }\n",
              "\n",
              "  .colab-df-quickchart-complete:disabled,\n",
              "  .colab-df-quickchart-complete:disabled:hover {\n",
              "    background-color: var(--disabled-bg-color);\n",
              "    fill: var(--disabled-fill-color);\n",
              "    box-shadow: none;\n",
              "  }\n",
              "\n",
              "  .colab-df-spinner {\n",
              "    border: 2px solid var(--fill-color);\n",
              "    border-color: transparent;\n",
              "    border-bottom-color: var(--fill-color);\n",
              "    animation:\n",
              "      spin 1s steps(1) infinite;\n",
              "  }\n",
              "\n",
              "  @keyframes spin {\n",
              "    0% {\n",
              "      border-color: transparent;\n",
              "      border-bottom-color: var(--fill-color);\n",
              "      border-left-color: var(--fill-color);\n",
              "    }\n",
              "    20% {\n",
              "      border-color: transparent;\n",
              "      border-left-color: var(--fill-color);\n",
              "      border-top-color: var(--fill-color);\n",
              "    }\n",
              "    30% {\n",
              "      border-color: transparent;\n",
              "      border-left-color: var(--fill-color);\n",
              "      border-top-color: var(--fill-color);\n",
              "      border-right-color: var(--fill-color);\n",
              "    }\n",
              "    40% {\n",
              "      border-color: transparent;\n",
              "      border-right-color: var(--fill-color);\n",
              "      border-top-color: var(--fill-color);\n",
              "    }\n",
              "    60% {\n",
              "      border-color: transparent;\n",
              "      border-right-color: var(--fill-color);\n",
              "    }\n",
              "    80% {\n",
              "      border-color: transparent;\n",
              "      border-right-color: var(--fill-color);\n",
              "      border-bottom-color: var(--fill-color);\n",
              "    }\n",
              "    90% {\n",
              "      border-color: transparent;\n",
              "      border-bottom-color: var(--fill-color);\n",
              "    }\n",
              "  }\n",
              "</style>\n",
              "\n",
              "  <script>\n",
              "    async function quickchart(key) {\n",
              "      const quickchartButtonEl =\n",
              "        document.querySelector('#' + key + ' button');\n",
              "      quickchartButtonEl.disabled = true;  // To prevent multiple clicks.\n",
              "      quickchartButtonEl.classList.add('colab-df-spinner');\n",
              "      try {\n",
              "        const charts = await google.colab.kernel.invokeFunction(\n",
              "            'suggestCharts', [key], {});\n",
              "      } catch (error) {\n",
              "        console.error('Error during call to suggestCharts:', error);\n",
              "      }\n",
              "      quickchartButtonEl.classList.remove('colab-df-spinner');\n",
              "      quickchartButtonEl.classList.add('colab-df-quickchart-complete');\n",
              "    }\n",
              "    (() => {\n",
              "      let quickchartButtonEl =\n",
              "        document.querySelector('#df-038eaf00-1df5-4e16-8e93-2df6db487d76 button');\n",
              "      quickchartButtonEl.style.display =\n",
              "        google.colab.kernel.accessAllowed ? 'block' : 'none';\n",
              "    })();\n",
              "  </script>\n",
              "</div>\n",
              "    </div>\n",
              "  </div>\n"
            ],
            "application/vnd.google.colaboratory.intrinsic+json": {
              "type": "dataframe",
              "variable_name": "df",
              "summary": "{\n  \"name\": \"df\",\n  \"rows\": 2460,\n  \"fields\": [\n    {\n      \"column\": \"ID\",\n      \"properties\": {\n        \"dtype\": \"number\",\n        \"std\": 710,\n        \"min\": 1,\n        \"max\": 2460,\n        \"num_unique_values\": 2460,\n        \"samples\": [\n          1950,\n          1481,\n          1088\n        ],\n        \"semantic_type\": \"\",\n        \"description\": \"\"\n      }\n    },\n    {\n      \"column\": \"MACRORREG_OCOR\",\n      \"properties\": {\n        \"dtype\": \"category\",\n        \"num_unique_values\": 5,\n        \"samples\": [\n          \"SE\",\n          \"NE\",\n          \"S\"\n        ],\n        \"semantic_type\": \"\",\n        \"description\": \"\"\n      }\n    },\n    {\n      \"column\": \"COD_UF_OCOR\",\n      \"properties\": {\n        \"dtype\": \"number\",\n        \"std\": 6,\n        \"min\": 11,\n        \"max\": 53,\n        \"num_unique_values\": 17,\n        \"samples\": [\n          52,\n          31,\n          35\n        ],\n        \"semantic_type\": \"\",\n        \"description\": \"\"\n      }\n    },\n    {\n      \"column\": \"UF_OCOR\",\n      \"properties\": {\n        \"dtype\": \"category\",\n        \"num_unique_values\": 18,\n        \"samples\": [\n          \"GO\",\n          \"MG\",\n          \"ES\"\n        ],\n        \"semantic_type\": \"\",\n        \"description\": \"\"\n      }\n    },\n    {\n      \"column\": \"COD_MUN_OCOR\",\n      \"properties\": {\n        \"dtype\": \"number\",\n        \"std\": 59588,\n        \"min\": 110020,\n        \"max\": 530010,\n        \"num_unique_values\": 594,\n        \"samples\": [\n          500320,\n          312740,\n          310670\n        ],\n        \"semantic_type\": \"\",\n        \"description\": \"\"\n      }\n    },\n    {\n      \"column\": \"MUN_OCOR\",\n      \"properties\": {\n        \"dtype\": \"category\",\n        \"num_unique_values\": 591,\n        \"samples\": [\n          \"ITUPEVA\",\n          \"PALMEIR\\u00d3POLIS\",\n          \"CAPIT\\u00c3O EN\\u00c9AS\"\n        ],\n        \"semantic_type\": \"\",\n        \"description\": \"\"\n      }\n    },\n    {\n      \"column\": \"DATA_OCOR\",\n      \"properties\": {\n        \"dtype\": \"date\",\n        \"min\": \"2002-11-14 00:00:00\",\n        \"max\": \"2023-11-16 00:00:00\",\n        \"num_unique_values\": 883,\n        \"samples\": [\n          \"2009-03-20 00:00:00\",\n          \"2021-03-17 00:00:00\",\n          \"2020-10-17 00:00:00\"\n        ],\n        \"semantic_type\": \"\",\n        \"description\": \"\"\n      }\n    },\n    {\n      \"column\": \"SE_OCOR\",\n      \"properties\": {\n        \"dtype\": \"number\",\n        \"std\": 17.080959921733193,\n        \"min\": 1.0,\n        \"max\": 53.0,\n        \"num_unique_values\": 53,\n        \"samples\": [\n          16.0,\n          34.0,\n          44.0\n        ],\n        \"semantic_type\": \"\",\n        \"description\": \"\"\n      }\n    },\n    {\n      \"column\": \"MES_OCOR\",\n      \"properties\": {\n        \"dtype\": \"number\",\n        \"std\": 3.9463955869063363,\n        \"min\": 1.0,\n        \"max\": 12.0,\n        \"num_unique_values\": 12,\n        \"samples\": [\n          9.0,\n          3.0,\n          2.0\n        ],\n        \"semantic_type\": \"\",\n        \"description\": \"\"\n      }\n    },\n    {\n      \"column\": \"ANO_OCOR\",\n      \"properties\": {\n        \"dtype\": \"number\",\n        \"std\": 3,\n        \"min\": 2000,\n        \"max\": 2023,\n        \"num_unique_values\": 17,\n        \"samples\": [\n          2000,\n          2001,\n          2008\n        ],\n        \"semantic_type\": \"\",\n        \"description\": \"\"\n      }\n    },\n    {\n      \"column\": \"MONITORAMENTO_OCOR\",\n      \"properties\": {\n        \"dtype\": \"category\",\n        \"num_unique_values\": 16,\n        \"samples\": [\n          \"1999/2000\",\n          \"2000/2001\",\n          \"2006/2007\"\n        ],\n        \"semantic_type\": \"\",\n        \"description\": \"\"\n      }\n    }\n  ]\n}"
            }
          },
          "metadata": {},
          "execution_count": 179
        }
      ]
    },
    {
      "cell_type": "markdown",
      "source": [
        "NaN = Not a Number\n",
        "\n",
        "NaT = Not a Time"
      ],
      "metadata": {
        "id": "WO3Wmf1aoTSY"
      }
    },
    {
      "cell_type": "code",
      "source": [
        "df.dtypes"
      ],
      "metadata": {
        "id": "F2_Qpc35qvJT",
        "outputId": "c98ae213-01de-43f0-f59c-3d27d4bcfcc1",
        "colab": {
          "base_uri": "https://localhost:8080/"
        }
      },
      "execution_count": 188,
      "outputs": [
        {
          "output_type": "execute_result",
          "data": {
            "text/plain": [
              "MACRORREG_OCOR                object\n",
              "COD_UF_OCOR                    int64\n",
              "UF_OCOR                       object\n",
              "COD_MUN_OCOR                   int64\n",
              "MUN_OCOR                      object\n",
              "DATA_OCOR             datetime64[ns]\n",
              "SE_OCOR                      float64\n",
              "MES_OCOR                     float64\n",
              "ANO_OCOR                       int64\n",
              "MONITORAMENTO_OCOR            object\n",
              "dtype: object"
            ]
          },
          "metadata": {},
          "execution_count": 188
        }
      ]
    },
    {
      "cell_type": "markdown",
      "source": [
        "###MACRORREG_OCOR:"
      ],
      "metadata": {
        "id": "DTliqbmoqk9K"
      }
    },
    {
      "cell_type": "code",
      "source": [
        "df[\"MACRORREG_OCOR\"].unique()"
      ],
      "metadata": {
        "id": "HbYzzWFLqpwP",
        "outputId": "60b99b81-8cf2-4676-f535-0f7b01ab6bf9",
        "colab": {
          "base_uri": "https://localhost:8080/"
        }
      },
      "execution_count": 187,
      "outputs": [
        {
          "output_type": "execute_result",
          "data": {
            "text/plain": [
              "array(['CO', 'SE', 'S', 'N', 'NE'], dtype=object)"
            ]
          },
          "metadata": {},
          "execution_count": 187
        }
      ]
    },
    {
      "cell_type": "markdown",
      "source": [
        "###COD_UF_OCOR:"
      ],
      "metadata": {
        "id": "HO4Ia4ZZq1Yk"
      }
    },
    {
      "cell_type": "code",
      "source": [
        "len(df[\"COD_UF_OCOR\"].unique()) == len(df[\"UF_OCOR\"].unique())"
      ],
      "metadata": {
        "id": "Bw_nHGrJq4G-",
        "outputId": "0fcbb979-a10f-4cd4-f6a3-d75926592032",
        "colab": {
          "base_uri": "https://localhost:8080/"
        }
      },
      "execution_count": 190,
      "outputs": [
        {
          "output_type": "execute_result",
          "data": {
            "text/plain": [
              "True"
            ]
          },
          "metadata": {},
          "execution_count": 190
        }
      ]
    },
    {
      "cell_type": "markdown",
      "source": [
        "###UF_OCOR:"
      ],
      "metadata": {
        "id": "knOytAInqiNS"
      }
    },
    {
      "cell_type": "code",
      "source": [
        "df[\"UF_OCOR\"].unique()"
      ],
      "metadata": {
        "id": "gSJ2FkPwod0j",
        "outputId": "5af20a36-c178-4df8-8c13-f5d60818343f",
        "colab": {
          "base_uri": "https://localhost:8080/"
        }
      },
      "execution_count": 182,
      "outputs": [
        {
          "output_type": "execute_result",
          "data": {
            "text/plain": [
              "array(['GO', 'MG', 'RS', 'DF', 'MS', 'SP', 'TO', 'PR', 'ES', 'PA', 'BA',\n",
              "       'MT', 'RR', 'RJ', 'RO', 'SC', 'pr', 'AC'], dtype=object)"
            ]
          },
          "metadata": {},
          "execution_count": 182
        }
      ]
    },
    {
      "cell_type": "markdown",
      "source": [
        "O Paraná possui 2 siglas, 'PR' e 'pr'"
      ],
      "metadata": {
        "id": "7w76Zh9LpI2C"
      }
    },
    {
      "cell_type": "code",
      "source": [
        "df['UF_OCOR'] = df['UF_OCOR'].apply(lambda x: x.upper())"
      ],
      "metadata": {
        "id": "XWbdF4o7pSlW"
      },
      "execution_count": 186,
      "outputs": []
    },
    {
      "cell_type": "markdown",
      "source": [
        "###COD_MUN_OCOR:"
      ],
      "metadata": {
        "id": "C3RSbYDNrHhV"
      }
    },
    {
      "cell_type": "code",
      "source": [],
      "metadata": {
        "id": "XnXOWQFnrroD"
      },
      "execution_count": null,
      "outputs": []
    },
    {
      "cell_type": "markdown",
      "source": [
        "###MUN_OCOR:"
      ],
      "metadata": {
        "id": "yhrOZln5rNFF"
      }
    },
    {
      "cell_type": "code",
      "source": [],
      "metadata": {
        "id": "yDnkWBINrrY3"
      },
      "execution_count": null,
      "outputs": []
    },
    {
      "cell_type": "markdown",
      "source": [
        "###DATA_OCOR:"
      ],
      "metadata": {
        "id": "fHV2QOJprPCv"
      }
    },
    {
      "cell_type": "code",
      "source": [],
      "metadata": {
        "id": "Itz_Ke96rrLc"
      },
      "execution_count": null,
      "outputs": []
    },
    {
      "cell_type": "markdown",
      "source": [
        "###SE_OCOR:"
      ],
      "metadata": {
        "id": "oZnBmlLcrQ0X"
      }
    },
    {
      "cell_type": "code",
      "source": [],
      "metadata": {
        "id": "hUW2p7XIrq5V"
      },
      "execution_count": null,
      "outputs": []
    },
    {
      "cell_type": "markdown",
      "source": [
        "###MES_OCOR:"
      ],
      "metadata": {
        "id": "0U0WJWpOrVF0"
      }
    },
    {
      "cell_type": "code",
      "source": [],
      "metadata": {
        "id": "Zdxq-XaJrqqn"
      },
      "execution_count": null,
      "outputs": []
    },
    {
      "cell_type": "markdown",
      "source": [
        "###ANO_OCOR:"
      ],
      "metadata": {
        "id": "mmvEy6tLrYyR"
      }
    },
    {
      "cell_type": "code",
      "source": [],
      "metadata": {
        "id": "K4S5HmAPrqbT"
      },
      "execution_count": null,
      "outputs": []
    },
    {
      "cell_type": "markdown",
      "source": [
        "MONITORAMENTO_OCOR:"
      ],
      "metadata": {
        "id": "lE0S0N9Zrand"
      }
    },
    {
      "cell_type": "markdown",
      "source": [
        "# Caso queira baixar o dataset em UTF-8:"
      ],
      "metadata": {
        "id": "whCBFzAUkOaA"
      }
    },
    {
      "cell_type": "code",
      "source": [
        "with open(\"/content/febre_amarela_macacos (1).csv\", \"w\", encoding=\"utf-8\") as new_dtsus:\n",
        "  with open(\"/content/febre_amarela_macacos.csv\", \"r\", encoding=\"ISO 8859-1\") as dtsus:\n",
        "    new_dtsus.write(dtsus.read())"
      ],
      "metadata": {
        "id": "qNeAdJtIkTOD"
      },
      "execution_count": 161,
      "outputs": []
    }
  ]
}