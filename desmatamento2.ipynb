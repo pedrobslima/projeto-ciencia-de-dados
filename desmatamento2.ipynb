{
  "cells": [
    {
      "cell_type": "markdown",
      "metadata": {
        "colab_type": "text",
        "id": "view-in-github"
      },
      "source": [
        "<a href=\"https://colab.research.google.com/github/pedrobslima/projeto-ciencia-de-dados/blob/main/desmatamento2.ipynb\" target=\"_parent\"><img src=\"https://colab.research.google.com/assets/colab-badge.svg\" alt=\"Open In Colab\"/></a>"
      ]
    },
    {
      "cell_type": "markdown",
      "metadata": {
        "id": "SLG95uNgkM8I"
      },
      "source": [
        "# Projeto de Ciência de Dados (2)\n",
        "\n",
        "Pedro Barros de Souza Lima - pbsl@cin.ufpe.br\n",
        "\n",
        "Pedro Calheiros de Araújo - pca@cin.ufpe.br\n",
        "\n",
        "Dataset encontrado em: https://dados.gov.br/dados/conjuntos-dados/incendios-em-unidades-de-conservacao-federais\n",
        "\n",
        "Arquivos importantes: https://www.gov.br/icmbio/pt-br/acesso-a-informacao/dados-abertos/arquivos/sistema-de-analise-e-monitoramento-da-efetividade-de-gestao-samge/dados-do-samge-1-identificacao-e-resultados.xlsx"
      ]
    },
    {
      "cell_type": "markdown",
      "metadata": {
        "id": "MslsI4f8ksfg"
      },
      "source": [
        "###**Objetivos:**\n",
        "\n",
        "1. Escolher uma das colunas dos dados utilizados no projeto 1 para predição (classificação ou regressão) ✅\n",
        "\n",
        "2. Separar os\tdados\tem treinamento,\tvalidação\te\tteste ✅\n",
        "\n",
        "3. Selecionar\t4\talgoritmos de acordo com a tarefa escolhida no passo\t1\t✅\n",
        "\n",
        "4. Adicionar MLFlow no treinamento dos modelos para rastreamento ⛔\n",
        "\n",
        "5. Executar uma ferramenta de seleção de hiper-parâmetros sobre o conjunto de validação ⛔\n",
        "    1. Selecionar poucos hiper-parâmetros por algoritmo\t(max.\t3) ⛔\n",
        "    2. Selecionar o modelo (algoritmo+valores de hiper-parâmetros) com melhor resultado na métrica de avaliação ⛔\n",
        "    3. Executar o melhor modelo de cada algoritmo no conjunto de teste e selecionar o melhor modelo geral na métrica de avaliação ⛔\n",
        "\n",
        "6. Realizar diagnóstico do melhor modelo geral da etapa 5 e melhorá-lo a partir do diagnóstico ⛔\n",
        "\n",
        "* Bônus: Utilizar auto-sklearn, clustering para entendimento dos dados ⛔"
      ]
    },
    {
      "cell_type": "markdown",
      "metadata": {
        "id": "v81gMz0FkBqO"
      },
      "source": [
        "### Imports"
      ]
    },
    {
      "cell_type": "code",
      "execution_count": null,
      "metadata": {},
      "outputs": [],
      "source": [
        "#!pip install mlflow\n",
        "\n",
        "#!pip install auto-sklearn"
      ]
    },
    {
      "cell_type": "code",
      "execution_count": 1,
      "metadata": {
        "id": "AXNi3NQxdcZf"
      },
      "outputs": [],
      "source": [
        "import os\n",
        "import warnings\n",
        "import sys\n",
        "\n",
        "import pandas as pd\n",
        "import numpy as np\n",
        "import sklearn\n",
        "from math import log10\n",
        "from scipy import stats\n",
        "import matplotlib.pyplot as plt\n",
        "import seaborn as sns\n",
        "from sklearn.preprocessing import StandardScaler #, MinMaxScaler\n",
        "\n",
        "from sklearn.metrics import mean_squared_error, mean_absolute_error, r2_score\n",
        "from sklearn.model_selection import train_test_split\n",
        "from urllib.parse import urlparse\n",
        "import mlflow\n",
        "import mlflow.sklearn\n",
        "from random import randint\n",
        "import logging\n",
        "from imblearn.over_sampling import SMOTE\n",
        "\n",
        "# Classificação\n",
        "from sklearn import tree\n",
        "from sklearn.tree import DecisionTreeClassifier\n",
        "from sklearn.ensemble import RandomForestClassifier\n",
        "from sklearn.neighbors import KNeighborsClassifier\n",
        "from sklearn.svm import SVC\n",
        "\n",
        "# Avaliação\n",
        "from sklearn.metrics import accuracy_score, precision_score, recall_score, f1_score\n",
        "from sklearn.model_selection import cross_val_score\n",
        "from sklearn.metrics import confusion_matrix, ConfusionMatrixDisplay\n",
        "\n",
        "# Bônus\n",
        "#import autosklearn"
      ]
    },
    {
      "cell_type": "markdown",
      "metadata": {
        "id": "A2IDHyOJdNSL"
      },
      "source": [
        "### Funções"
      ]
    },
    {
      "cell_type": "code",
      "execution_count": 8,
      "metadata": {
        "id": "j92xXUsSdMi0"
      },
      "outputs": [],
      "source": [
        "def analiseTipos(df:pd.DataFrame, feature:str = None):\n",
        "  '''Para printar uma contagem dos tipos, incluindo valores <NAN>\n",
        "  Caso o parâmentro \"feature\" não seja declarado, será feito o .dtypes do dataframe \"df\"'''\n",
        "  if(feature):\n",
        "    print(f'''Num <NAN>: {len(df[df[feature].isna()])}\n",
        "\n",
        "{df[feature].apply(lambda x: type(x)).value_counts()}''')\n",
        "  else:\n",
        "    print(f'Num <NAN>: {len(df[df.isna()])}\\n')\n",
        "    print(df.dtypes)"
      ]
    },
    {
      "cell_type": "code",
      "execution_count": 9,
      "metadata": {
        "id": "nNM0uW8X-GrL"
      },
      "outputs": [],
      "source": [
        "def checkMetrics(test, pred, get_metrics:bool=True, display:list=None):\n",
        "\n",
        "  labels = [0,1,2,3,4]\n",
        "  acc = accuracy_score(test, pred)\n",
        "  prc = precision_score(test, pred, labels=labels, average='macro')\n",
        "  rcl = recall_score(test, pred, labels=labels, average='macro')\n",
        "  f1s = f1_score(test, pred, labels=labels, average='macro')\n",
        "\n",
        "  if(get_metrics):\n",
        "    return acc, prc, rcl, f1s\n",
        "\n",
        "  print(f'''Acurácia: {acc:.11f}\n",
        "Precisão: {prc:.11f}\n",
        "Recall: {rcl:.11f}\n",
        "F1-Score: {f1s:.11f}\n",
        "''')\n",
        "  print(\"Matriz de Confusão:\")\n",
        "\n",
        "  cm = confusion_matrix(test, pred, labels=labels)\n",
        "\n",
        "  if(display):\n",
        "    ConfusionMatrixDisplay(confusion_matrix=cm,display_labels=display).plot()\n",
        "  else:\n",
        "    ConfusionMatrixDisplay(confusion_matrix=cm,display_labels=labels).plot()\n",
        "\n",
        "  #disp.plot()\n",
        "\n",
        "  plt.show()"
      ]
    },
    {
      "cell_type": "code",
      "execution_count": 10,
      "metadata": {
        "id": "gjojF44BSyVc"
      },
      "outputs": [],
      "source": [
        "def eval_metrics(actual, pred):\n",
        "    rmse = np.sqrt(mean_squared_error(actual, pred))\n",
        "    mae = mean_absolute_error(actual, pred)\n",
        "    r2 = r2_score(actual, pred)\n",
        "    return rmse, mae, r2"
      ]
    },
    {
      "cell_type": "markdown",
      "metadata": {
        "id": "U8D5p8YM8Hph"
      },
      "source": [
        "## prep"
      ]
    },
    {
      "cell_type": "markdown",
      "metadata": {
        "id": "YIY9zi72A4PP"
      },
      "source": [
        "Coleta dos dados principais:"
      ]
    },
    {
      "cell_type": "code",
      "execution_count": 11,
      "metadata": {
        "id": "xpp4oLXR8Hpi"
      },
      "outputs": [],
      "source": [
        "#PATH = '/content/tabela_de_desmatamento_ucs.xlsx'\n",
        "PATH = 'tabela_de_desmatamento_ucs.xlsx'\n",
        "\n",
        "df = pd.read_excel(PATH, sheet_name=0, header=1)\n",
        "df = df.drop(df.index[-1])\n",
        "df = df.assign(bioma = \"Amazônia\")\n",
        "for b in ['Mata Atlântica', 'Pampa', 'Cerrado', 'Caatinga']: # tirei o pantanal porque dados estavam incompletos\n",
        "  temp = pd.read_excel(PATH, sheet_name=b, header=1)\n",
        "  temp = temp.drop(temp.index[-1])\n",
        "  temp = temp.assign(bioma = b)\n",
        "  df = pd.concat([df, temp], ignore_index=True)"
      ]
    },
    {
      "cell_type": "markdown",
      "metadata": {
        "id": "OedfeP0u_QOE"
      },
      "source": [
        "---\n",
        "#### Verificação da coluna 'TOTAL' e remoção de registros pré-2008\n"
      ]
    },
    {
      "cell_type": "code",
      "execution_count": 13,
      "metadata": {
        "colab": {
          "base_uri": "https://localhost:8080/",
          "height": 424
        },
        "id": "1JIpFiDe4J8b",
        "outputId": "a0099618-c223-4151-97cd-331a0427e7a1"
      },
      "outputs": [
        {
          "data": {
            "text/html": [
              "<div>\n",
              "<style scoped>\n",
              "    .dataframe tbody tr th:only-of-type {\n",
              "        vertical-align: middle;\n",
              "    }\n",
              "\n",
              "    .dataframe tbody tr th {\n",
              "        vertical-align: top;\n",
              "    }\n",
              "\n",
              "    .dataframe thead th {\n",
              "        text-align: right;\n",
              "    }\n",
              "</style>\n",
              "<table border=\"1\" class=\"dataframe\">\n",
              "  <thead>\n",
              "    <tr style=\"text-align: right;\">\n",
              "      <th></th>\n",
              "      <th>unidade de conservação</th>\n",
              "      <th>bioma</th>\n",
              "      <th>TOTAL</th>\n",
              "      <th>total_check</th>\n",
              "    </tr>\n",
              "  </thead>\n",
              "  <tbody>\n",
              "    <tr>\n",
              "      <th>0</th>\n",
              "      <td>APA do Igarapé Gelado</td>\n",
              "      <td>Amazônia</td>\n",
              "      <td>9146.70</td>\n",
              "      <td>9146.70</td>\n",
              "    </tr>\n",
              "    <tr>\n",
              "      <th>1</th>\n",
              "      <td>APA do Tapajós</td>\n",
              "      <td>Amazônia</td>\n",
              "      <td>137537.01</td>\n",
              "      <td>137537.01</td>\n",
              "    </tr>\n",
              "    <tr>\n",
              "      <th>2</th>\n",
              "      <td>APA dos Campos de Manicoré</td>\n",
              "      <td>Amazônia</td>\n",
              "      <td>215.43</td>\n",
              "      <td>215.43</td>\n",
              "    </tr>\n",
              "    <tr>\n",
              "      <th>3</th>\n",
              "      <td>ARIE Projeto Dinâmica Biológica de Fragmento F...</td>\n",
              "      <td>Amazônia</td>\n",
              "      <td>74.26</td>\n",
              "      <td>74.26</td>\n",
              "    </tr>\n",
              "    <tr>\n",
              "      <th>4</th>\n",
              "      <td>ARIE Seringal Nova Esperança</td>\n",
              "      <td>Amazônia</td>\n",
              "      <td>1777.85</td>\n",
              "      <td>1777.85</td>\n",
              "    </tr>\n",
              "    <tr>\n",
              "      <th>...</th>\n",
              "      <td>...</td>\n",
              "      <td>...</td>\n",
              "      <td>...</td>\n",
              "      <td>...</td>\n",
              "    </tr>\n",
              "    <tr>\n",
              "      <th>316</th>\n",
              "      <td>REBIO Guaribas</td>\n",
              "      <td>Caatinga</td>\n",
              "      <td>20.16</td>\n",
              "      <td>20.16</td>\n",
              "    </tr>\n",
              "    <tr>\n",
              "      <th>317</th>\n",
              "      <td>RESEX do Batoque</td>\n",
              "      <td>Caatinga</td>\n",
              "      <td>105.36</td>\n",
              "      <td>105.36</td>\n",
              "    </tr>\n",
              "    <tr>\n",
              "      <th>318</th>\n",
              "      <td>RESEX Prainha do Canto Verde</td>\n",
              "      <td>Caatinga</td>\n",
              "      <td>72.90</td>\n",
              "      <td>72.90</td>\n",
              "    </tr>\n",
              "    <tr>\n",
              "      <th>319</th>\n",
              "      <td>REVIS da Ararinha Azul</td>\n",
              "      <td>Caatinga</td>\n",
              "      <td>111.72</td>\n",
              "      <td>111.72</td>\n",
              "    </tr>\n",
              "    <tr>\n",
              "      <th>320</th>\n",
              "      <td>REVIS de Boa Nova</td>\n",
              "      <td>Caatinga</td>\n",
              "      <td>1670.72</td>\n",
              "      <td>1670.72</td>\n",
              "    </tr>\n",
              "  </tbody>\n",
              "</table>\n",
              "<p>321 rows × 4 columns</p>\n",
              "</div>"
            ],
            "text/plain": [
              "                                unidade de conservação     bioma      TOTAL  \\\n",
              "0                                APA do Igarapé Gelado  Amazônia    9146.70   \n",
              "1                                       APA do Tapajós  Amazônia  137537.01   \n",
              "2                           APA dos Campos de Manicoré  Amazônia     215.43   \n",
              "3    ARIE Projeto Dinâmica Biológica de Fragmento F...  Amazônia      74.26   \n",
              "4                         ARIE Seringal Nova Esperança  Amazônia    1777.85   \n",
              "..                                                 ...       ...        ...   \n",
              "316                                     REBIO Guaribas  Caatinga      20.16   \n",
              "317                                   RESEX do Batoque  Caatinga     105.36   \n",
              "318                       RESEX Prainha do Canto Verde  Caatinga      72.90   \n",
              "319                             REVIS da Ararinha Azul  Caatinga     111.72   \n",
              "320                                  REVIS de Boa Nova  Caatinga    1670.72   \n",
              "\n",
              "     total_check  \n",
              "0        9146.70  \n",
              "1      137537.01  \n",
              "2         215.43  \n",
              "3          74.26  \n",
              "4        1777.85  \n",
              "..           ...  \n",
              "316        20.16  \n",
              "317       105.36  \n",
              "318        72.90  \n",
              "319       111.72  \n",
              "320      1670.72  \n",
              "\n",
              "[321 rows x 4 columns]"
            ]
          },
          "execution_count": 13,
          "metadata": {},
          "output_type": "execute_result"
        }
      ],
      "source": [
        "cols = ['Até 2007', 2008, 2009, 2010, 2011, 2012, 2013, 2014, 2015, 2016, 2017,\n",
        "        2018, 2019, 2020, 2021, 2022, 2023, 'Até 2000', '2001 a 2004', 2006, 2002, 2004]\n",
        "\n",
        "df.assign(total_check=lambda x: x.loc[:,cols].sum(axis=1))[['unidade de conservação', 'bioma', 'TOTAL', 'total_check']]"
      ]
    },
    {
      "cell_type": "markdown",
      "metadata": {
        "id": "3tzng1bi8riY"
      },
      "source": [
        "Se você for comparar os valores da soma e do TOTAL, pelo pandas vai dizer que alguns não são iguais, mas se compararmos visualmente, claramente não há diferença. Provavelmente é uma diferença na leitura dos floats ou na computação da soma. Não há diferenças relevantes.\n",
        "\n",
        "De qualquer forma ela será removida porque, ao final do tratamento dos dados, ela não será útil, já que parte dos valores que se somavam para dar o valor em TOTAL foi retirado, ou foi adicionado algum valor no lugar de dados ausentes."
      ]
    },
    {
      "cell_type": "code",
      "execution_count": 14,
      "metadata": {
        "id": "suQxBeLSi3Zs"
      },
      "outputs": [],
      "source": [
        "df = df.drop(columns=['Até 2007', '2001 a 2004', 'Até 2000', 2002, 2006, 2004, 'TOTAL'])"
      ]
    },
    {
      "cell_type": "markdown",
      "metadata": {
        "id": "5HmTUJZWBdLX"
      },
      "source": [
        "---\n",
        "#### Verificação de Unidades de Conservação (UC) duplicadas"
      ]
    },
    {
      "cell_type": "code",
      "execution_count": 15,
      "metadata": {
        "id": "GE-5evbOsCOR"
      },
      "outputs": [],
      "source": [
        "cols = ['unidade de conservação', 'bioma']\n",
        "#df.loc[:,cols].groupby(by='unidade de conservação').aggregate('count').sort_values(by='bioma', ascending=False).head(18)"
      ]
    },
    {
      "cell_type": "markdown",
      "metadata": {
        "id": "yQFuiQemBQIG"
      },
      "source": [
        "UCs repetidas são compostas por 2 biomas. É importante deixá-las como instâncias separadas porque a área desmatada é diferente entre biomas da mesma UC."
      ]
    },
    {
      "cell_type": "code",
      "execution_count": 16,
      "metadata": {
        "colab": {
          "base_uri": "https://localhost:8080/",
          "height": 219
        },
        "id": "6fNRhNJg2_SC",
        "outputId": "e90b5582-ce99-4dfe-f68d-10444bb9b9e2"
      },
      "outputs": [
        {
          "data": {
            "text/html": [
              "<div>\n",
              "<style scoped>\n",
              "    .dataframe tbody tr th:only-of-type {\n",
              "        vertical-align: middle;\n",
              "    }\n",
              "\n",
              "    .dataframe tbody tr th {\n",
              "        vertical-align: top;\n",
              "    }\n",
              "\n",
              "    .dataframe thead th {\n",
              "        text-align: right;\n",
              "    }\n",
              "</style>\n",
              "<table border=\"1\" class=\"dataframe\">\n",
              "  <thead>\n",
              "    <tr style=\"text-align: right;\">\n",
              "      <th></th>\n",
              "      <th>cnuc</th>\n",
              "      <th>unidade de conservação</th>\n",
              "      <th>área_ha_uc</th>\n",
              "      <th>2008</th>\n",
              "      <th>2009</th>\n",
              "      <th>2010</th>\n",
              "      <th>2011</th>\n",
              "      <th>2012</th>\n",
              "      <th>2013</th>\n",
              "      <th>2014</th>\n",
              "      <th>2015</th>\n",
              "      <th>2016</th>\n",
              "      <th>2017</th>\n",
              "      <th>2018</th>\n",
              "      <th>2019</th>\n",
              "      <th>2020</th>\n",
              "      <th>2021</th>\n",
              "      <th>2022</th>\n",
              "      <th>2023</th>\n",
              "      <th>bioma</th>\n",
              "    </tr>\n",
              "  </thead>\n",
              "  <tbody>\n",
              "    <tr>\n",
              "      <th>259</th>\n",
              "      <td>0000.00.0135</td>\n",
              "      <td>PARNA Cavernas do Peruaçu</td>\n",
              "      <td>56448.64549</td>\n",
              "      <td>8.68</td>\n",
              "      <td>NaN</td>\n",
              "      <td>26.68</td>\n",
              "      <td>NaN</td>\n",
              "      <td>75.26</td>\n",
              "      <td>7.09</td>\n",
              "      <td>1.01</td>\n",
              "      <td>0.0</td>\n",
              "      <td>0.00</td>\n",
              "      <td>10.12</td>\n",
              "      <td>12.59</td>\n",
              "      <td>0.00</td>\n",
              "      <td>0.0</td>\n",
              "      <td>0.00</td>\n",
              "      <td>0.0</td>\n",
              "      <td>NaN</td>\n",
              "      <td>Cerrado</td>\n",
              "    </tr>\n",
              "    <tr>\n",
              "      <th>303</th>\n",
              "      <td>0000.00.0135</td>\n",
              "      <td>PARNA Cavernas do Peruaçu</td>\n",
              "      <td>56448.64549</td>\n",
              "      <td>142.74</td>\n",
              "      <td>NaN</td>\n",
              "      <td>86.69</td>\n",
              "      <td>4.96</td>\n",
              "      <td>NaN</td>\n",
              "      <td>241.22</td>\n",
              "      <td>82.60</td>\n",
              "      <td>NaN</td>\n",
              "      <td>78.57</td>\n",
              "      <td>41.40</td>\n",
              "      <td>61.49</td>\n",
              "      <td>13.29</td>\n",
              "      <td>5.1</td>\n",
              "      <td>15.49</td>\n",
              "      <td>0.0</td>\n",
              "      <td>NaN</td>\n",
              "      <td>Caatinga</td>\n",
              "    </tr>\n",
              "  </tbody>\n",
              "</table>\n",
              "</div>"
            ],
            "text/plain": [
              "             cnuc     unidade de conservação   área_ha_uc    2008  2009  \\\n",
              "259  0000.00.0135  PARNA Cavernas do Peruaçu  56448.64549    8.68   NaN   \n",
              "303  0000.00.0135  PARNA Cavernas do Peruaçu  56448.64549  142.74   NaN   \n",
              "\n",
              "      2010  2011   2012    2013   2014  2015   2016   2017   2018   2019  \\\n",
              "259  26.68   NaN  75.26    7.09   1.01   0.0   0.00  10.12  12.59   0.00   \n",
              "303  86.69  4.96    NaN  241.22  82.60   NaN  78.57  41.40  61.49  13.29   \n",
              "\n",
              "     2020   2021  2022  2023     bioma  \n",
              "259   0.0   0.00   0.0   NaN   Cerrado  \n",
              "303   5.1  15.49   0.0   NaN  Caatinga  "
            ]
          },
          "execution_count": 16,
          "metadata": {},
          "output_type": "execute_result"
        }
      ],
      "source": [
        "df[df['unidade de conservação'] == 'PARNA Cavernas do Peruaçu']"
      ]
    },
    {
      "cell_type": "markdown",
      "metadata": {
        "id": "6PDvdsVb_OQb"
      },
      "source": [
        "---\n",
        "#### Coleta & Integração das Unidades Federativas ao dataset principal\n",
        "(+ rápida análise + remoção de duplicatas)\n"
      ]
    },
    {
      "cell_type": "code",
      "execution_count": 17,
      "metadata": {
        "id": "NQpzAIaZmnNW"
      },
      "outputs": [],
      "source": [
        "#dfid = pd.read_excel('/content/dados-do-samge-1-identificacao-e-resultados.xlsx').loc[:,['Nome da UC', 'UF']]\n",
        "dfid = pd.read_excel('dados-do-samge-1-identificacao-e-resultados.xlsx').loc[:,['Nome da UC', 'UF']]"
      ]
    },
    {
      "cell_type": "markdown",
      "metadata": {
        "id": "ifklIv4t-RXR"
      },
      "source": [
        "Não foi apresentado aqui no código, mas na planilha original, a diferença entre essas duplicatas são apenas o ano do registro, que é importante para dados referentes ao gerenciamento das UCs.\n",
        "\n",
        "Como nós só precisamos do(s) estado(s) onde estão localizadas, não tem porquê manter essas duplicatas:  "
      ]
    },
    {
      "cell_type": "code",
      "execution_count": 18,
      "metadata": {
        "id": "F3KbIdScxDL1"
      },
      "outputs": [],
      "source": [
        "dfid = dfid.drop_duplicates()\n",
        "df['unidade de conservação'] = df['unidade de conservação'].apply(lambda x: x.upper())\n",
        "df = pd.merge(df, dfid, how='inner', right_on='Nome da UC', left_on='unidade de conservação').drop(columns=['Nome da UC'])\n",
        "#df[df['unidade de conservação'] == 'APA DA BACIA DO RIO DESCOBERTO']"
      ]
    },
    {
      "cell_type": "markdown",
      "metadata": {
        "id": "Q86NkVvwFmjW"
      },
      "source": [
        "---\n",
        "#### Definição de tipos"
      ]
    },
    {
      "cell_type": "code",
      "execution_count": 19,
      "metadata": {
        "colab": {
          "base_uri": "https://localhost:8080/"
        },
        "id": "MJcUTwylz20p",
        "outputId": "bbe4df43-5d94-4ea2-c9b9-528fc419f518"
      },
      "outputs": [
        {
          "data": {
            "text/plain": [
              "cnuc                       object\n",
              "unidade de conservação     object\n",
              "área_ha_uc                float64\n",
              "2008                      float64\n",
              "2009                      float64\n",
              "2010                      float64\n",
              "2011                      float64\n",
              "2012                      float64\n",
              "2013                      float64\n",
              "2014                      float64\n",
              "2015                      float64\n",
              "2016                      float64\n",
              "2017                      float64\n",
              "2018                      float64\n",
              "2019                      float64\n",
              "2020                      float64\n",
              "2021                      float64\n",
              "2022                      float64\n",
              "2023                      float64\n",
              "bioma                      object\n",
              "UF                         object\n",
              "dtype: object"
            ]
          },
          "execution_count": 19,
          "metadata": {},
          "output_type": "execute_result"
        }
      ],
      "source": [
        "df.dtypes"
      ]
    },
    {
      "cell_type": "code",
      "execution_count": 20,
      "metadata": {
        "id": "xTXxmYN7ORh-"
      },
      "outputs": [],
      "source": [
        "co = ['AL', 'PE', 'PB', 'RN', 'SE', 'CE', 'PI', 'MA', 'BA', # NE  (1) 0-8\n",
        "      'TO', 'PA', 'AC', 'RR', 'RO', 'AP', 'AM',             # N   (1) 9-15\n",
        "      'MT', 'MS', 'DF', 'GO',                               # CO  (1) 16-19\n",
        "      'PR', 'RS', 'SC',                                     # S   (1) 20-22\n",
        "      'ES', 'RJ', 'MG', 'SP',                               # SE  (1) 23-26\n",
        "      'AL, PE', 'CE, PI',                     # NE      (2) 27-28\n",
        "      'BA, TO',                               # NE, N   (2) 29\n",
        "      'AM, RO', 'AM, PA', 'AM, RR', 'AP, PA', # N       (2) 30-33\n",
        "      'AM, MT', 'AM, MT, RO',                 # N, CO   (2)(3) 34-35\n",
        "      'DF, GO',                               # CO      (2) 36\n",
        "      'MS, PR',                               # CO, S   (2) 37\n",
        "      'RS, SC',                               # S       (2) 38\n",
        "      'RJ, SP'                                # SE      (2) 39\n",
        "      ]\n",
        "\n",
        "df['UF'] = df['UF'].astype(pd.api.types.CategoricalDtype(categories=co))"
      ]
    },
    {
      "cell_type": "markdown",
      "metadata": {
        "id": "ozZsHTdrCJNH"
      },
      "source": [
        "Não acho que vale a pena aumentar o número de UCs para que cada instância tenha apenas uma UF relacionada. Elas já foram dividas de acordo com seus biomas, além disso, não temos como relacionar um bioma a um estado exclusivamente porque biomas não respeitam fronteiras artificiais."
      ]
    },
    {
      "cell_type": "code",
      "execution_count": 21,
      "metadata": {
        "colab": {
          "base_uri": "https://localhost:8080/"
        },
        "id": "TqAQTOgNOst7",
        "outputId": "6324d199-563d-4145-cd26-7c8fb3b2b2fe"
      },
      "outputs": [
        {
          "data": {
            "text/plain": [
              "Index(['Amazônia', 'Caatinga', 'Cerrado', 'Mata Atlântica', 'Pampa'], dtype='object')"
            ]
          },
          "execution_count": 21,
          "metadata": {},
          "output_type": "execute_result"
        }
      ],
      "source": [
        "df['bioma'] = df['bioma'].astype('category')\n",
        "df['bioma'].cat.categories"
      ]
    },
    {
      "cell_type": "markdown",
      "metadata": {
        "id": "s8sKr1G6-V1k"
      },
      "source": [
        "Criação da coluna \"região\":"
      ]
    },
    {
      "cell_type": "markdown",
      "metadata": {
        "id": "TerxRoQ6ECuD"
      },
      "source": [
        "Apenas 4 UCs estão presentes em mais de uma região."
      ]
    },
    {
      "cell_type": "code",
      "execution_count": 22,
      "metadata": {
        "colab": {
          "base_uri": "https://localhost:8080/"
        },
        "id": "Eq556hPF94Fv",
        "outputId": "15a31fc3-1b7f-46e2-fe49-87c11a8f4d80"
      },
      "outputs": [
        {
          "data": {
            "text/plain": [
              "região\n",
              "N        82\n",
              "NE       57\n",
              "SE       38\n",
              "S        27\n",
              "CO       12\n",
              "N, CO     2\n",
              "CO, S     1\n",
              "NE, N     1\n",
              "Name: count, dtype: int64"
            ]
          },
          "execution_count": 22,
          "metadata": {},
          "output_type": "execute_result"
        }
      ],
      "source": [
        "uf2reg = ['NE', 'N', 'CO', 'S', 'SE', 'NE', 'NE, N', 'N', 'N, CO', 'CO', 'CO, S', 'S', 'SE']\n",
        "\n",
        "df['região'] = pd.cut(df.UF.cat.codes, [0, 9, 16, 20, 23, 27, 29, 30, 34, 36, 37, 38, 39, 40], ordered=False, labels=uf2reg, right=False)\n",
        "\n",
        "# Define and apply arbitrary category order\n",
        "# Essa ordem foi decidida porque se quiser fazer uma análise de bioma presentes\n",
        "# nas regiões, por exemplo, Norte e/ou Centro-Oeste, é só especificar o intervalo\n",
        "# dos índices de ambas as regiões, que também irá incluir UCs presentes em ambas\n",
        "# ao mesmo tempo, df['região'].cat.categories[1:4] => ['N', 'N, CO', 'CO'],\n",
        "# ou até df['região'].cat.categories[3:6] => ['N', 'N, CO', 'CO']\n",
        "co = ['NE', 'NE, N', 'N', 'N, CO', 'CO', 'CO, S', 'S', 'SE']\n",
        "\n",
        "df['região'] = df['região'].astype(pd.api.types.CategoricalDtype(categories=co))\n",
        "\n",
        "df['região'].value_counts()"
      ]
    },
    {
      "cell_type": "markdown",
      "metadata": {
        "id": "UifoDlWcQbtM"
      },
      "source": [
        "---\n",
        "####Tratamento de dados ausentes"
      ]
    },
    {
      "cell_type": "code",
      "execution_count": 23,
      "metadata": {
        "id": "-nIx4CXUQfgD"
      },
      "outputs": [],
      "source": [
        "cols = ['unidade de conservação', 'área_ha_uc', 2008, 2009, 2010,\n",
        "       2011, 2012, 2013, 2014, 2015, 2016, 2017, 2018, 2019, 2020, 2021,\n",
        "       2022, 2023, 'bioma']\n",
        "#df[cols].head()"
      ]
    },
    {
      "cell_type": "markdown",
      "metadata": {
        "id": "2K4Z1aOAdt3l"
      },
      "source": [
        "Quantidades de dados nulos por bioma e ano:"
      ]
    },
    {
      "cell_type": "code",
      "execution_count": 24,
      "metadata": {
        "colab": {
          "base_uri": "https://localhost:8080/",
          "height": 206
        },
        "id": "KxCRu_7qg0lV",
        "outputId": "c4f97d69-bc58-48d2-ea12-611c7364586a"
      },
      "outputs": [
        {
          "data": {
            "text/html": [
              "<div>\n",
              "<style scoped>\n",
              "    .dataframe tbody tr th:only-of-type {\n",
              "        vertical-align: middle;\n",
              "    }\n",
              "\n",
              "    .dataframe tbody tr th {\n",
              "        vertical-align: top;\n",
              "    }\n",
              "\n",
              "    .dataframe thead th {\n",
              "        text-align: right;\n",
              "    }\n",
              "</style>\n",
              "<table border=\"1\" class=\"dataframe\">\n",
              "  <thead>\n",
              "    <tr style=\"text-align: right;\">\n",
              "      <th></th>\n",
              "      <th>2008</th>\n",
              "      <th>2009</th>\n",
              "      <th>2010</th>\n",
              "      <th>2011</th>\n",
              "      <th>2012</th>\n",
              "      <th>2013</th>\n",
              "      <th>2014</th>\n",
              "      <th>2015</th>\n",
              "      <th>2016</th>\n",
              "      <th>2017</th>\n",
              "      <th>2018</th>\n",
              "      <th>2019</th>\n",
              "      <th>2020</th>\n",
              "      <th>2021</th>\n",
              "      <th>2022</th>\n",
              "      <th>2023</th>\n",
              "      <th>num_total</th>\n",
              "    </tr>\n",
              "  </thead>\n",
              "  <tbody>\n",
              "    <tr>\n",
              "      <th>Amazônia</th>\n",
              "      <td>0</td>\n",
              "      <td>0</td>\n",
              "      <td>0</td>\n",
              "      <td>0</td>\n",
              "      <td>0</td>\n",
              "      <td>0</td>\n",
              "      <td>0</td>\n",
              "      <td>0</td>\n",
              "      <td>0</td>\n",
              "      <td>0</td>\n",
              "      <td>0</td>\n",
              "      <td>0</td>\n",
              "      <td>0</td>\n",
              "      <td>0</td>\n",
              "      <td>0</td>\n",
              "      <td>25</td>\n",
              "      <td>87</td>\n",
              "    </tr>\n",
              "    <tr>\n",
              "      <th>Caatinga</th>\n",
              "      <td>0</td>\n",
              "      <td>28</td>\n",
              "      <td>0</td>\n",
              "      <td>0</td>\n",
              "      <td>28</td>\n",
              "      <td>0</td>\n",
              "      <td>0</td>\n",
              "      <td>28</td>\n",
              "      <td>0</td>\n",
              "      <td>0</td>\n",
              "      <td>0</td>\n",
              "      <td>0</td>\n",
              "      <td>0</td>\n",
              "      <td>0</td>\n",
              "      <td>0</td>\n",
              "      <td>28</td>\n",
              "      <td>28</td>\n",
              "    </tr>\n",
              "    <tr>\n",
              "      <th>Cerrado</th>\n",
              "      <td>0</td>\n",
              "      <td>33</td>\n",
              "      <td>0</td>\n",
              "      <td>33</td>\n",
              "      <td>0</td>\n",
              "      <td>0</td>\n",
              "      <td>0</td>\n",
              "      <td>0</td>\n",
              "      <td>0</td>\n",
              "      <td>0</td>\n",
              "      <td>0</td>\n",
              "      <td>0</td>\n",
              "      <td>0</td>\n",
              "      <td>0</td>\n",
              "      <td>0</td>\n",
              "      <td>33</td>\n",
              "      <td>33</td>\n",
              "    </tr>\n",
              "    <tr>\n",
              "      <th>Mata Atlântica</th>\n",
              "      <td>0</td>\n",
              "      <td>70</td>\n",
              "      <td>0</td>\n",
              "      <td>0</td>\n",
              "      <td>70</td>\n",
              "      <td>0</td>\n",
              "      <td>0</td>\n",
              "      <td>70</td>\n",
              "      <td>0</td>\n",
              "      <td>0</td>\n",
              "      <td>0</td>\n",
              "      <td>0</td>\n",
              "      <td>0</td>\n",
              "      <td>0</td>\n",
              "      <td>0</td>\n",
              "      <td>70</td>\n",
              "      <td>70</td>\n",
              "    </tr>\n",
              "    <tr>\n",
              "      <th>Pampa</th>\n",
              "      <td>0</td>\n",
              "      <td>2</td>\n",
              "      <td>0</td>\n",
              "      <td>0</td>\n",
              "      <td>2</td>\n",
              "      <td>0</td>\n",
              "      <td>0</td>\n",
              "      <td>2</td>\n",
              "      <td>0</td>\n",
              "      <td>0</td>\n",
              "      <td>0</td>\n",
              "      <td>0</td>\n",
              "      <td>0</td>\n",
              "      <td>0</td>\n",
              "      <td>0</td>\n",
              "      <td>2</td>\n",
              "      <td>2</td>\n",
              "    </tr>\n",
              "  </tbody>\n",
              "</table>\n",
              "</div>"
            ],
            "text/plain": [
              "                2008  2009  2010  2011  2012  2013  2014  2015  2016  2017  \\\n",
              "Amazônia           0     0     0     0     0     0     0     0     0     0   \n",
              "Caatinga           0    28     0     0    28     0     0    28     0     0   \n",
              "Cerrado            0    33     0    33     0     0     0     0     0     0   \n",
              "Mata Atlântica     0    70     0     0    70     0     0    70     0     0   \n",
              "Pampa              0     2     0     0     2     0     0     2     0     0   \n",
              "\n",
              "                2018  2019  2020  2021  2022  2023  num_total  \n",
              "Amazônia           0     0     0     0     0    25         87  \n",
              "Caatinga           0     0     0     0     0    28         28  \n",
              "Cerrado            0     0     0     0     0    33         33  \n",
              "Mata Atlântica     0     0     0     0     0    70         70  \n",
              "Pampa              0     0     0     0     0     2          2  "
            ]
          },
          "execution_count": 24,
          "metadata": {},
          "output_type": "execute_result"
        }
      ],
      "source": [
        "dfna = pd.DataFrame(index=df.bioma.cat.categories, columns=range(2008,2024))\n",
        "dfna = dfna.transform(lambda x: [df.loc[(df.bioma==x.name), col].isna().sum() for col in range(2008,2024)], axis=1)\n",
        "dfna = dfna.assign(num_total=lambda x: df.bioma.value_counts())\n",
        "dfna"
      ]
    },
    {
      "cell_type": "markdown",
      "metadata": {
        "id": "96mA3LMJr-Eg"
      },
      "source": [
        "Colunas NAN por biomas:\n",
        "* Amazônia:\n",
        "  * Any NAN: 2023 (25NAN x 62NUM)\n",
        "  * All NAN:\n",
        "* Caatinga:\n",
        "  * Any NAN: 2009, 2012, 2015, 2023\n",
        "  * All NAN: 2009, 2012, 2015, 2023\n",
        "* Cerrado:\n",
        "  * Any NAN: 2009, 2011, 2023\n",
        "  * All NAN: 2009, 2011, 2023\n",
        "* Mata Atlântica:\n",
        "  * Any NAN: 2009, 2012, 2015, 2023\n",
        "  * All NAN: 2009, 2012, 2015, 2023\n",
        "* Pampa:\n",
        "  * Any NAN: 2009, 2012, 2015, 2023\n",
        "  * All NAN: 2009, 2012, 2015, 2023"
      ]
    },
    {
      "cell_type": "code",
      "execution_count": 25,
      "metadata": {
        "colab": {
          "base_uri": "https://localhost:8080/"
        },
        "id": "S5VwZN0At1qc",
        "outputId": "f70ebb4d-3100-4943-d6c5-ff45846bfa36"
      },
      "outputs": [
        {
          "data": {
            "text/plain": [
              "0.7181818181818181"
            ]
          },
          "execution_count": 25,
          "metadata": {},
          "output_type": "execute_result"
        }
      ],
      "source": [
        "df.loc[:,2023].isna().sum() / len(df)"
      ]
    },
    {
      "cell_type": "markdown",
      "metadata": {
        "id": "l5Nm4mRXun53"
      },
      "source": [
        "Aproximadamente 72% dos registros de 2023 são nulos, então serão removidos."
      ]
    },
    {
      "cell_type": "code",
      "execution_count": 26,
      "metadata": {
        "id": "fMRwRk4GdiRf"
      },
      "outputs": [],
      "source": [
        "df = df.drop(columns=[2023])"
      ]
    },
    {
      "cell_type": "markdown",
      "metadata": {
        "id": "GeKW8nEmpUYC"
      },
      "source": [
        "Como a maioria das colunas de anos faltantes estão entre colunas com dados declarados, achei melhor que esses dados faltantes fossem substituídos pela média das duas colunas vizinhas, indicando um aumento/diminuição gradual da quantidade de hectares desmatados, ao invés de simplesmente dizer que, por exemplo, não houve desmatamento para todas as UCs do bioma da Pampa no ano de 2009."
      ]
    },
    {
      "cell_type": "code",
      "execution_count": 27,
      "metadata": {
        "id": "kz-wVIF0rccd"
      },
      "outputs": [],
      "source": [
        "cols = [2009, 2012, 2015]\n",
        "df.loc[(df.bioma.cat.codes.isin([1,3,4])), cols] = df.loc[(df.bioma.cat.codes.isin([1,3,4])), cols].apply(lambda x: (df[(x.name + 1)] + df[(x.name - 1)])/2)\n",
        "cols = [2009, 2011]\n",
        "df.loc[(df.bioma.cat.codes==2), cols] = df.loc[(df.bioma.cat.codes==2), cols].apply(lambda x: (df[(x.name + 1)] + df[(x.name - 1)])/2)\n",
        "cols = list(range(2008, 2023))"
      ]
    },
    {
      "cell_type": "markdown",
      "metadata": {
        "id": "tcjbPqwcVcM9"
      },
      "source": [
        "#### Normalização e Discretização"
      ]
    },
    {
      "cell_type": "code",
      "execution_count": 28,
      "metadata": {
        "id": "1IOVUjzWABe6"
      },
      "outputs": [],
      "source": [
        "scaler = StandardScaler()\n",
        "#df_norm = df.loc[:,(['área_ha_uc']+cols)].apply(lambda x: scaler.fit_transform(np.array(x).reshape(-1,1)))\n",
        "\n",
        "df_norm = pd.DataFrame(scaler.fit_transform(df[cols]), columns=cols)\n",
        "df_norm['área_ha_uc'] = scaler.fit_transform(np.array(df['área_ha_uc']).reshape(-1,1))\n",
        "\n",
        "colsa = ['área_ha_uc'] + cols\n",
        "\n",
        "df_norm['bioma'] = df['bioma'].copy()"
      ]
    },
    {
      "cell_type": "markdown",
      "metadata": {
        "id": "-1dflp_kXHrN"
      },
      "source": [
        "As colunas normalizadas não seguem distribuição gaussiana."
      ]
    },
    {
      "cell_type": "code",
      "execution_count": 29,
      "metadata": {
        "colab": {
          "base_uri": "https://localhost:8080/",
          "height": 407
        },
        "id": "vxm4StVcbPMY",
        "outputId": "0cd0cb1c-7eb2-4a2d-8847-5097810dacdf"
      },
      "outputs": [
        {
          "data": {
            "text/html": [
              "<div>\n",
              "<style scoped>\n",
              "    .dataframe tbody tr th:only-of-type {\n",
              "        vertical-align: middle;\n",
              "    }\n",
              "\n",
              "    .dataframe tbody tr th {\n",
              "        vertical-align: top;\n",
              "    }\n",
              "\n",
              "    .dataframe thead th {\n",
              "        text-align: right;\n",
              "    }\n",
              "</style>\n",
              "<table border=\"1\" class=\"dataframe\">\n",
              "  <thead>\n",
              "    <tr style=\"text-align: right;\">\n",
              "      <th></th>\n",
              "      <th>2008</th>\n",
              "      <th>2009</th>\n",
              "      <th>2010</th>\n",
              "      <th>2011</th>\n",
              "      <th>2012</th>\n",
              "      <th>2013</th>\n",
              "      <th>2014</th>\n",
              "      <th>2015</th>\n",
              "      <th>2016</th>\n",
              "      <th>2017</th>\n",
              "      <th>2018</th>\n",
              "      <th>2019</th>\n",
              "      <th>2020</th>\n",
              "      <th>2021</th>\n",
              "      <th>2022</th>\n",
              "      <th>área_ha_uc</th>\n",
              "    </tr>\n",
              "  </thead>\n",
              "  <tbody>\n",
              "    <tr>\n",
              "      <th>count</th>\n",
              "      <td>2.200000e+02</td>\n",
              "      <td>2.200000e+02</td>\n",
              "      <td>2.200000e+02</td>\n",
              "      <td>220.000000</td>\n",
              "      <td>2.200000e+02</td>\n",
              "      <td>2.200000e+02</td>\n",
              "      <td>2.200000e+02</td>\n",
              "      <td>220.000000</td>\n",
              "      <td>2.200000e+02</td>\n",
              "      <td>2.200000e+02</td>\n",
              "      <td>2.200000e+02</td>\n",
              "      <td>2.200000e+02</td>\n",
              "      <td>2.200000e+02</td>\n",
              "      <td>2.200000e+02</td>\n",
              "      <td>2.200000e+02</td>\n",
              "      <td>2.200000e+02</td>\n",
              "    </tr>\n",
              "    <tr>\n",
              "      <th>mean</th>\n",
              "      <td>8.074349e-18</td>\n",
              "      <td>2.422305e-17</td>\n",
              "      <td>-1.614870e-17</td>\n",
              "      <td>0.000000</td>\n",
              "      <td>-1.211152e-17</td>\n",
              "      <td>-2.018587e-18</td>\n",
              "      <td>-2.018587e-18</td>\n",
              "      <td>0.000000</td>\n",
              "      <td>-8.074349e-18</td>\n",
              "      <td>-8.074349e-18</td>\n",
              "      <td>4.844610e-17</td>\n",
              "      <td>-3.229740e-17</td>\n",
              "      <td>1.614870e-17</td>\n",
              "      <td>-3.229740e-17</td>\n",
              "      <td>-4.844610e-17</td>\n",
              "      <td>3.229740e-17</td>\n",
              "    </tr>\n",
              "    <tr>\n",
              "      <th>std</th>\n",
              "      <td>1.002281e+00</td>\n",
              "      <td>1.002281e+00</td>\n",
              "      <td>1.002281e+00</td>\n",
              "      <td>1.002281</td>\n",
              "      <td>1.002281e+00</td>\n",
              "      <td>1.002281e+00</td>\n",
              "      <td>1.002281e+00</td>\n",
              "      <td>1.002281</td>\n",
              "      <td>1.002281e+00</td>\n",
              "      <td>1.002281e+00</td>\n",
              "      <td>1.002281e+00</td>\n",
              "      <td>1.002281e+00</td>\n",
              "      <td>1.002281e+00</td>\n",
              "      <td>1.002281e+00</td>\n",
              "      <td>1.002281e+00</td>\n",
              "      <td>1.002281e+00</td>\n",
              "    </tr>\n",
              "    <tr>\n",
              "      <th>min</th>\n",
              "      <td>-2.411852e-01</td>\n",
              "      <td>-1.950873e-01</td>\n",
              "      <td>-1.719694e-01</td>\n",
              "      <td>-0.288749</td>\n",
              "      <td>-2.751946e-01</td>\n",
              "      <td>-1.832701e-01</td>\n",
              "      <td>-2.469846e-01</td>\n",
              "      <td>-0.177621</td>\n",
              "      <td>-1.953284e-01</td>\n",
              "      <td>-2.357797e-01</td>\n",
              "      <td>-2.178445e-01</td>\n",
              "      <td>-1.956222e-01</td>\n",
              "      <td>-1.944161e-01</td>\n",
              "      <td>-1.799297e-01</td>\n",
              "      <td>-2.000674e-01</td>\n",
              "      <td>-5.286977e-01</td>\n",
              "    </tr>\n",
              "    <tr>\n",
              "      <th>25%</th>\n",
              "      <td>-2.411852e-01</td>\n",
              "      <td>-1.950873e-01</td>\n",
              "      <td>-1.719694e-01</td>\n",
              "      <td>-0.288749</td>\n",
              "      <td>-2.751946e-01</td>\n",
              "      <td>-1.832701e-01</td>\n",
              "      <td>-2.469846e-01</td>\n",
              "      <td>-0.177621</td>\n",
              "      <td>-1.953284e-01</td>\n",
              "      <td>-2.357797e-01</td>\n",
              "      <td>-2.178445e-01</td>\n",
              "      <td>-1.956222e-01</td>\n",
              "      <td>-1.944161e-01</td>\n",
              "      <td>-1.799297e-01</td>\n",
              "      <td>-2.000674e-01</td>\n",
              "      <td>-5.080258e-01</td>\n",
              "    </tr>\n",
              "    <tr>\n",
              "      <th>50%</th>\n",
              "      <td>-2.345923e-01</td>\n",
              "      <td>-1.866430e-01</td>\n",
              "      <td>-1.622976e-01</td>\n",
              "      <td>-0.285976</td>\n",
              "      <td>-2.698296e-01</td>\n",
              "      <td>-1.807170e-01</td>\n",
              "      <td>-2.463713e-01</td>\n",
              "      <td>-0.176512</td>\n",
              "      <td>-1.936902e-01</td>\n",
              "      <td>-2.350587e-01</td>\n",
              "      <td>-2.170910e-01</td>\n",
              "      <td>-1.920719e-01</td>\n",
              "      <td>-1.926140e-01</td>\n",
              "      <td>-1.797652e-01</td>\n",
              "      <td>-2.000674e-01</td>\n",
              "      <td>-4.038971e-01</td>\n",
              "    </tr>\n",
              "    <tr>\n",
              "      <th>75%</th>\n",
              "      <td>-1.362561e-01</td>\n",
              "      <td>-1.401371e-01</td>\n",
              "      <td>-1.173074e-01</td>\n",
              "      <td>-0.201135</td>\n",
              "      <td>-2.033755e-01</td>\n",
              "      <td>-1.491607e-01</td>\n",
              "      <td>-1.896150e-01</td>\n",
              "      <td>-0.142325</td>\n",
              "      <td>-1.554789e-01</td>\n",
              "      <td>-1.878629e-01</td>\n",
              "      <td>-1.851505e-01</td>\n",
              "      <td>-1.606854e-01</td>\n",
              "      <td>-1.596718e-01</td>\n",
              "      <td>-1.577661e-01</td>\n",
              "      <td>-1.757415e-01</td>\n",
              "      <td>-1.263387e-02</td>\n",
              "    </tr>\n",
              "    <tr>\n",
              "      <th>max</th>\n",
              "      <td>1.142739e+01</td>\n",
              "      <td>1.148140e+01</td>\n",
              "      <td>1.315629e+01</td>\n",
              "      <td>8.963003</td>\n",
              "      <td>9.307065e+00</td>\n",
              "      <td>1.115757e+01</td>\n",
              "      <td>8.787245e+00</td>\n",
              "      <td>12.182520</td>\n",
              "      <td>1.053878e+01</td>\n",
              "      <td>9.315896e+00</td>\n",
              "      <td>1.064459e+01</td>\n",
              "      <td>9.907319e+00</td>\n",
              "      <td>1.122500e+01</td>\n",
              "      <td>1.160804e+01</td>\n",
              "      <td>8.606931e+00</td>\n",
              "      <td>6.622432e+00</td>\n",
              "    </tr>\n",
              "  </tbody>\n",
              "</table>\n",
              "</div>"
            ],
            "text/plain": [
              "               2008          2009          2010        2011          2012  \\\n",
              "count  2.200000e+02  2.200000e+02  2.200000e+02  220.000000  2.200000e+02   \n",
              "mean   8.074349e-18  2.422305e-17 -1.614870e-17    0.000000 -1.211152e-17   \n",
              "std    1.002281e+00  1.002281e+00  1.002281e+00    1.002281  1.002281e+00   \n",
              "min   -2.411852e-01 -1.950873e-01 -1.719694e-01   -0.288749 -2.751946e-01   \n",
              "25%   -2.411852e-01 -1.950873e-01 -1.719694e-01   -0.288749 -2.751946e-01   \n",
              "50%   -2.345923e-01 -1.866430e-01 -1.622976e-01   -0.285976 -2.698296e-01   \n",
              "75%   -1.362561e-01 -1.401371e-01 -1.173074e-01   -0.201135 -2.033755e-01   \n",
              "max    1.142739e+01  1.148140e+01  1.315629e+01    8.963003  9.307065e+00   \n",
              "\n",
              "               2013          2014        2015          2016          2017  \\\n",
              "count  2.200000e+02  2.200000e+02  220.000000  2.200000e+02  2.200000e+02   \n",
              "mean  -2.018587e-18 -2.018587e-18    0.000000 -8.074349e-18 -8.074349e-18   \n",
              "std    1.002281e+00  1.002281e+00    1.002281  1.002281e+00  1.002281e+00   \n",
              "min   -1.832701e-01 -2.469846e-01   -0.177621 -1.953284e-01 -2.357797e-01   \n",
              "25%   -1.832701e-01 -2.469846e-01   -0.177621 -1.953284e-01 -2.357797e-01   \n",
              "50%   -1.807170e-01 -2.463713e-01   -0.176512 -1.936902e-01 -2.350587e-01   \n",
              "75%   -1.491607e-01 -1.896150e-01   -0.142325 -1.554789e-01 -1.878629e-01   \n",
              "max    1.115757e+01  8.787245e+00   12.182520  1.053878e+01  9.315896e+00   \n",
              "\n",
              "               2018          2019          2020          2021          2022  \\\n",
              "count  2.200000e+02  2.200000e+02  2.200000e+02  2.200000e+02  2.200000e+02   \n",
              "mean   4.844610e-17 -3.229740e-17  1.614870e-17 -3.229740e-17 -4.844610e-17   \n",
              "std    1.002281e+00  1.002281e+00  1.002281e+00  1.002281e+00  1.002281e+00   \n",
              "min   -2.178445e-01 -1.956222e-01 -1.944161e-01 -1.799297e-01 -2.000674e-01   \n",
              "25%   -2.178445e-01 -1.956222e-01 -1.944161e-01 -1.799297e-01 -2.000674e-01   \n",
              "50%   -2.170910e-01 -1.920719e-01 -1.926140e-01 -1.797652e-01 -2.000674e-01   \n",
              "75%   -1.851505e-01 -1.606854e-01 -1.596718e-01 -1.577661e-01 -1.757415e-01   \n",
              "max    1.064459e+01  9.907319e+00  1.122500e+01  1.160804e+01  8.606931e+00   \n",
              "\n",
              "         área_ha_uc  \n",
              "count  2.200000e+02  \n",
              "mean   3.229740e-17  \n",
              "std    1.002281e+00  \n",
              "min   -5.286977e-01  \n",
              "25%   -5.080258e-01  \n",
              "50%   -4.038971e-01  \n",
              "75%   -1.263387e-02  \n",
              "max    6.622432e+00  "
            ]
          },
          "execution_count": 29,
          "metadata": {},
          "output_type": "execute_result"
        }
      ],
      "source": [
        "df_norm.describe()"
      ]
    },
    {
      "cell_type": "code",
      "execution_count": 30,
      "metadata": {
        "colab": {
          "base_uri": "https://localhost:8080/",
          "height": 1000
        },
        "id": "OXq2MCcGbMRx",
        "outputId": "b6e2fd0d-3b3e-4e53-d962-d48f826618cd"
      },
      "outputs": [
        {
          "data": {
            "text/plain": [
              "<Axes: >"
            ]
          },
          "execution_count": 30,
          "metadata": {},
          "output_type": "execute_result"
        },
        {
          "data": {
            "image/png": "[encoded data removed]",
            "text/plain": [
              "<Figure size 900x1200 with 1 Axes>"
            ]
          },
          "metadata": {},
          "output_type": "display_data"
        }
      ],
      "source": [
        "df_norm.boxplot(figsize=(9,12))"
      ]
    },
    {
      "cell_type": "markdown",
      "metadata": {
        "id": "rNteboecbR2f"
      },
      "source": [
        "Essa versão normalizada do dataset será usada para o treinamento do classificador Support Vector Machine (SVM).\n",
        "\n",
        "Uma das utilizadas seria a reposição de dados ausentes, que poderiam ser repostos pelo knn-inputer. Porém, pela particularidade da forma em que os dados ausentes estavam presentes, o grupo optou por usar outras técnicas para inputação de dados, tornando o knn-inputer irrelevante, e a normalização sem sentido."
      ]
    },
    {
      "cell_type": "code",
      "execution_count": 31,
      "metadata": {
        "colab": {
          "base_uri": "https://localhost:8080/",
          "height": 429
        },
        "id": "x2iPz3gK_uEa",
        "outputId": "eea18527-869c-498f-872b-e840e418b07d"
      },
      "outputs": [
        {
          "data": {
            "text/html": [
              "<div>\n",
              "<style scoped>\n",
              "    .dataframe tbody tr th:only-of-type {\n",
              "        vertical-align: middle;\n",
              "    }\n",
              "\n",
              "    .dataframe tbody tr th {\n",
              "        vertical-align: top;\n",
              "    }\n",
              "\n",
              "    .dataframe thead th {\n",
              "        text-align: right;\n",
              "    }\n",
              "</style>\n",
              "<table border=\"1\" class=\"dataframe\">\n",
              "  <thead>\n",
              "    <tr style=\"text-align: right;\">\n",
              "      <th></th>\n",
              "      <th>cnuc</th>\n",
              "      <th>unidade de conservação</th>\n",
              "      <th>área_ha_uc</th>\n",
              "      <th>2008</th>\n",
              "      <th>2009</th>\n",
              "      <th>2010</th>\n",
              "      <th>2011</th>\n",
              "      <th>2012</th>\n",
              "      <th>2013</th>\n",
              "      <th>2014</th>\n",
              "      <th>...</th>\n",
              "      <th>2017</th>\n",
              "      <th>2018</th>\n",
              "      <th>2019</th>\n",
              "      <th>2020</th>\n",
              "      <th>2021</th>\n",
              "      <th>2022</th>\n",
              "      <th>bioma</th>\n",
              "      <th>UF</th>\n",
              "      <th>região</th>\n",
              "      <th>tamanho_área</th>\n",
              "    </tr>\n",
              "  </thead>\n",
              "  <tbody>\n",
              "    <tr>\n",
              "      <th>0</th>\n",
              "      <td>0000.00.0022</td>\n",
              "      <td>APA DO IGARAPÉ GELADO</td>\n",
              "      <td>2.071467e+04</td>\n",
              "      <td>119.53</td>\n",
              "      <td>0.00</td>\n",
              "      <td>5.15</td>\n",
              "      <td>0.00</td>\n",
              "      <td>0.00</td>\n",
              "      <td>10.63</td>\n",
              "      <td>0.00</td>\n",
              "      <td>...</td>\n",
              "      <td>0.00</td>\n",
              "      <td>0.00</td>\n",
              "      <td>9.81</td>\n",
              "      <td>23.75</td>\n",
              "      <td>7.68</td>\n",
              "      <td>14.29</td>\n",
              "      <td>Amazônia</td>\n",
              "      <td>PA</td>\n",
              "      <td>N</td>\n",
              "      <td>1</td>\n",
              "    </tr>\n",
              "    <tr>\n",
              "      <th>1</th>\n",
              "      <td>0000.00.0268</td>\n",
              "      <td>APA DO TAPAJÓS</td>\n",
              "      <td>2.040336e+06</td>\n",
              "      <td>1648.94</td>\n",
              "      <td>1523.54</td>\n",
              "      <td>829.74</td>\n",
              "      <td>1352.57</td>\n",
              "      <td>2238.81</td>\n",
              "      <td>3246.37</td>\n",
              "      <td>2872.94</td>\n",
              "      <td>...</td>\n",
              "      <td>3229.61</td>\n",
              "      <td>3895.20</td>\n",
              "      <td>6552.78</td>\n",
              "      <td>6963.76</td>\n",
              "      <td>10646.08</td>\n",
              "      <td>11140.01</td>\n",
              "      <td>Amazônia</td>\n",
              "      <td>PA</td>\n",
              "      <td>N</td>\n",
              "      <td>0</td>\n",
              "    </tr>\n",
              "    <tr>\n",
              "      <th>2</th>\n",
              "      <td>0000.00.3407</td>\n",
              "      <td>APA DOS CAMPOS DE MANICORÉ</td>\n",
              "      <td>1.521325e+05</td>\n",
              "      <td>0.00</td>\n",
              "      <td>24.53</td>\n",
              "      <td>4.32</td>\n",
              "      <td>16.52</td>\n",
              "      <td>0.00</td>\n",
              "      <td>0.00</td>\n",
              "      <td>0.00</td>\n",
              "      <td>...</td>\n",
              "      <td>26.83</td>\n",
              "      <td>11.19</td>\n",
              "      <td>40.52</td>\n",
              "      <td>0.00</td>\n",
              "      <td>20.45</td>\n",
              "      <td>29.66</td>\n",
              "      <td>Amazônia</td>\n",
              "      <td>AM</td>\n",
              "      <td>N</td>\n",
              "      <td>1</td>\n",
              "    </tr>\n",
              "    <tr>\n",
              "      <th>3</th>\n",
              "      <td>0000.00.0044</td>\n",
              "      <td>ARIE SERINGAL NOVA ESPERANÇA</td>\n",
              "      <td>2.573984e+03</td>\n",
              "      <td>13.01</td>\n",
              "      <td>25.32</td>\n",
              "      <td>28.75</td>\n",
              "      <td>34.40</td>\n",
              "      <td>222.00</td>\n",
              "      <td>26.89</td>\n",
              "      <td>132.50</td>\n",
              "      <td>...</td>\n",
              "      <td>61.09</td>\n",
              "      <td>55.34</td>\n",
              "      <td>70.91</td>\n",
              "      <td>57.78</td>\n",
              "      <td>119.10</td>\n",
              "      <td>61.31</td>\n",
              "      <td>Amazônia</td>\n",
              "      <td>AC</td>\n",
              "      <td>N</td>\n",
              "      <td>2</td>\n",
              "    </tr>\n",
              "    <tr>\n",
              "      <th>4</th>\n",
              "      <td>0000.00.3131</td>\n",
              "      <td>ESEC ALTO MAUÉS</td>\n",
              "      <td>6.665559e+05</td>\n",
              "      <td>0.00</td>\n",
              "      <td>16.64</td>\n",
              "      <td>31.22</td>\n",
              "      <td>0.00</td>\n",
              "      <td>0.00</td>\n",
              "      <td>0.00</td>\n",
              "      <td>0.00</td>\n",
              "      <td>...</td>\n",
              "      <td>0.00</td>\n",
              "      <td>0.00</td>\n",
              "      <td>45.94</td>\n",
              "      <td>5.56</td>\n",
              "      <td>33.46</td>\n",
              "      <td>145.82</td>\n",
              "      <td>Amazônia</td>\n",
              "      <td>AM</td>\n",
              "      <td>N</td>\n",
              "      <td>0</td>\n",
              "    </tr>\n",
              "  </tbody>\n",
              "</table>\n",
              "<p>5 rows × 22 columns</p>\n",
              "</div>"
            ],
            "text/plain": [
              "           cnuc        unidade de conservação    área_ha_uc     2008     2009  \\\n",
              "0  0000.00.0022         APA DO IGARAPÉ GELADO  2.071467e+04   119.53     0.00   \n",
              "1  0000.00.0268                APA DO TAPAJÓS  2.040336e+06  1648.94  1523.54   \n",
              "2  0000.00.3407    APA DOS CAMPOS DE MANICORÉ  1.521325e+05     0.00    24.53   \n",
              "3  0000.00.0044  ARIE SERINGAL NOVA ESPERANÇA  2.573984e+03    13.01    25.32   \n",
              "4  0000.00.3131               ESEC ALTO MAUÉS  6.665559e+05     0.00    16.64   \n",
              "\n",
              "     2010     2011     2012     2013     2014  ...     2017     2018     2019  \\\n",
              "0    5.15     0.00     0.00    10.63     0.00  ...     0.00     0.00     9.81   \n",
              "1  829.74  1352.57  2238.81  3246.37  2872.94  ...  3229.61  3895.20  6552.78   \n",
              "2    4.32    16.52     0.00     0.00     0.00  ...    26.83    11.19    40.52   \n",
              "3   28.75    34.40   222.00    26.89   132.50  ...    61.09    55.34    70.91   \n",
              "4   31.22     0.00     0.00     0.00     0.00  ...     0.00     0.00    45.94   \n",
              "\n",
              "      2020      2021      2022     bioma  UF região tamanho_área  \n",
              "0    23.75      7.68     14.29  Amazônia  PA      N            1  \n",
              "1  6963.76  10646.08  11140.01  Amazônia  PA      N            0  \n",
              "2     0.00     20.45     29.66  Amazônia  AM      N            1  \n",
              "3    57.78    119.10     61.31  Amazônia  AC      N            2  \n",
              "4     5.56     33.46    145.82  Amazônia  AM      N            0  \n",
              "\n",
              "[5 rows x 22 columns]"
            ]
          },
          "execution_count": 31,
          "metadata": {},
          "output_type": "execute_result"
        }
      ],
      "source": [
        "dfd = df.copy()\n",
        "q1 = df['área_ha_uc'].quantile(q=0.33)\n",
        "q2 = df['área_ha_uc'].quantile(q=0.67)\n",
        "\n",
        "dfd = dfd.assign(tamanho_área = 'pequena')\n",
        "dfd.loc[(dfd['área_ha_uc'] > q1), ['tamanho_área']] = 'médio'\n",
        "dfd.loc[(dfd['área_ha_uc'] > q2), ['tamanho_área']] = 'grande'\n",
        "dfd['tamanho_área'] = dfd['tamanho_área'].astype('category')\n",
        "dfd['tamanho_área'] = dfd['tamanho_área'].cat.codes\n",
        "dfd.head()"
      ]
    },
    {
      "cell_type": "markdown",
      "metadata": {
        "id": "1mo6z3c8_ldL"
      },
      "source": [
        "A discretização também foi um ponto discutido entre a dupla, porém chegamos à conclusão que a discretização não faz sentido para as análises feitas neste projeto, podendo ser útil apenas na 2ª etapa do projeto, onde será feito o uso de classificadores e/ou regressores."
      ]
    },
    {
      "cell_type": "markdown",
      "metadata": {
        "id": "gNscTQBCVOZM"
      },
      "source": [
        "#### Detecção de outrliers e Limpeza de dados"
      ]
    },
    {
      "cell_type": "markdown",
      "metadata": {
        "id": "qQbfNvaPb4cK"
      },
      "source": [
        "Boxplot dos dados de desmatamento em cada ano. Os valores dos dados não são acumulativos, e sua unidade é Hectare (ha)."
      ]
    },
    {
      "cell_type": "code",
      "execution_count": 32,
      "metadata": {
        "colab": {
          "base_uri": "https://localhost:8080/",
          "height": 1000
        },
        "id": "q8CCCdtR0kq0",
        "outputId": "8225013d-6e4d-4bb9-cfb2-ab0b761a2cb6"
      },
      "outputs": [
        {
          "data": {
            "text/plain": [
              "<Axes: >"
            ]
          },
          "execution_count": 32,
          "metadata": {},
          "output_type": "execute_result"
        }
      ],
      "source": [
        "df[range(2008,2023)].boxplot(figsize=(9,12))"
      ]
    },
    {
      "cell_type": "markdown",
      "metadata": {
        "id": "25VU8K05cED6"
      },
      "source": [
        "Boxplot dos dados modificados. Ao invés de ser os dados puros de desmatamento, são as porcentagens da área desmatada de cada UC, ao longo dos anos. Dados não-acumulativos."
      ]
    },
    {
      "cell_type": "code",
      "execution_count": 33,
      "metadata": {
        "colab": {
          "base_uri": "https://localhost:8080/",
          "height": 1000
        },
        "id": "-zVuP-xXoZwN",
        "outputId": "a18b42a3-2c30-4f8b-f0d1-07991e20e308"
      },
      "outputs": [
        {
          "data": {
            "text/plain": [
              "<Axes: >"
            ]
          },
          "execution_count": 33,
          "metadata": {},
          "output_type": "execute_result"
        }
      ],
      "source": [
        "dft = df.copy()\n",
        "dft.loc[:,range(2008,2023)] = dft.loc[:,range(2008,2023)].apply(lambda x: x/dft['área_ha_uc'])\n",
        "dft[range(2008,2023)].boxplot(figsize=(9,12))"
      ]
    },
    {
      "cell_type": "markdown",
      "metadata": {
        "id": "ftB36cJnkfbC"
      },
      "source": [
        "Os boxplots apresentados mostram claramente vários outliers presentes no dataset, porém, contrário do que normalmente se pensaria, esses dados são relevantes e não devem ser excluídos do dataset.\n",
        "\n",
        "As UCs possuem tamanhos muito diferentes, além de que a maioria das UCs não possuem uma área de milhares de hectares, que é o caso de certas UCs localizadas na Amazônia. Portanto, mesmo sendo consideradas como outliers, essas Unidades de Conservação não devem ser retiradas do dataset, pois elas ainda são importantes para a análise dos dados. De qualquer forma, é importante que quem esteja vendo as análises sendo feitas aqui, tenha essa informação em mente."
      ]
    },
    {
      "cell_type": "markdown",
      "metadata": {
        "id": "gYIhtZP5aBCY"
      },
      "source": [
        "# Modelos e previsões"
      ]
    },
    {
      "cell_type": "markdown",
      "metadata": {
        "id": "VvTVR2vqcwen"
      },
      "source": [
        "* Árvore de Decisão (dtree)\n",
        "* Random Forest (rforest)\n",
        "* K-Nearest-Neighbours (knn)\n",
        "* [?] Support Vector Machine (svm)"
      ]
    },
    {
      "cell_type": "markdown",
      "metadata": {
        "id": "9RpqxNO2j15m"
      },
      "source": [
        "Opções de colunas para previsão:\n",
        "\n",
        "1. ```2022```: Quantidade de hectares desmatados em 2022 de uma UC (mas talvez esteja indo mais a fundo de processamento de séries temporais)\n",
        "  * Regressão\n",
        "  * Classificação (se fizer discretização da coluna)\n",
        "\n",
        "2. ```bioma```: Bioma a qual uma UC pertence com base nos dados do desmatamento\n",
        "  * Classificação"
      ]
    },
    {
      "cell_type": "markdown",
      "metadata": {
        "id": "DLhtWKbyFjOj"
      },
      "source": [
        "#### Manipulações"
      ]
    },
    {
      "cell_type": "code",
      "execution_count": 45,
      "metadata": {
        "colab": {
          "base_uri": "https://localhost:8080/"
        },
        "id": "ERKoslYDC-EH",
        "outputId": "158b247d-614f-48b7-9c08-d2d7a3ddcda8"
      },
      "outputs": [
        {
          "name": "stdout",
          "output_type": "stream",
          "text": [
            "Seed: 1650477539\n"
          ]
        }
      ],
      "source": [
        "seed = randint(0, 4294967295)\n",
        "print('Seed:', seed)"
      ]
    },
    {
      "cell_type": "code",
      "execution_count": 46,
      "metadata": {},
      "outputs": [],
      "source": [
        "display_labels = (\"Amaz\", 'Caat', 'Cerr', 'MA', 'Pampa')"
      ]
    },
    {
      "cell_type": "code",
      "execution_count": 47,
      "metadata": {
        "colab": {
          "base_uri": "https://localhost:8080/"
        },
        "id": "d0tLOjl_EVdV",
        "outputId": "12a9f615-b624-49ba-c84d-34da91474d3d"
      },
      "outputs": [
        {
          "data": {
            "text/plain": [
              "bioma\n",
              "Amazônia          87\n",
              "Mata Atlântica    70\n",
              "Cerrado           33\n",
              "Caatinga          28\n",
              "Pampa              2\n",
              "Name: count, dtype: int64"
            ]
          },
          "execution_count": 47,
          "metadata": {},
          "output_type": "execute_result"
        }
      ],
      "source": [
        "df['bioma'].value_counts()"
      ]
    },
    {
      "cell_type": "code",
      "execution_count": 48,
      "metadata": {
        "colab": {
          "base_uri": "https://localhost:8080/"
        },
        "id": "TC0mWbfnIazk",
        "outputId": "48ffe4f2-ead5-47f9-d247-b9a9536ad36d"
      },
      "outputs": [
        {
          "data": {
            "text/plain": [
              "Index(['Amazônia', 'Caatinga', 'Cerrado', 'Mata Atlântica', 'Pampa'], dtype='object')"
            ]
          },
          "execution_count": 48,
          "metadata": {},
          "output_type": "execute_result"
        }
      ],
      "source": [
        "df.bioma.cat.categories"
      ]
    },
    {
      "cell_type": "code",
      "execution_count": 49,
      "metadata": {
        "id": "M8JSlu1KGPdx"
      },
      "outputs": [],
      "source": [
        "X = df[colsa]\n",
        "y = df['bioma'].cat.codes # coluna escolhida\n",
        "\n",
        "Xc = X.copy()\n",
        "yc = y.copy()\n",
        "\n",
        "X.columns = X.columns.astype(str)"
      ]
    },
    {
      "cell_type": "markdown",
      "metadata": {},
      "source": [
        "normalização:"
      ]
    },
    {
      "cell_type": "code",
      "execution_count": 50,
      "metadata": {},
      "outputs": [],
      "source": [
        "X_norm = df_norm[colsa]\n",
        "y_norm = df_norm['bioma'].cat.codes # coluna escolhida\n",
        "\n",
        "Xc_norm = X_norm.copy()\n",
        "yc_norm = y_norm.copy()\n",
        "\n",
        "X_norm.columns = X_norm.columns.astype(str)"
      ]
    },
    {
      "cell_type": "markdown",
      "metadata": {},
      "source": [
        "split:"
      ]
    },
    {
      "cell_type": "code",
      "execution_count": 51,
      "metadata": {
        "id": "4yimjAsPDKsR"
      },
      "outputs": [],
      "source": [
        "X_train_imb, X_test, y_train_imb, y_test = train_test_split(X, y, test_size=0.3, random_state=seed, shuffle=True)\n",
        "\n",
        "# Over-Sampling\n",
        "X_train_imb = pd.concat([X_train_imb, X.loc[y==4,:], X.loc[y==4,:], X.loc[y==4,:]], ignore_index=True)\n",
        "y_train_imb = pd.concat([y_train_imb, pd.Series([4]*6)], ignore_index=True)\n",
        "\n",
        "smote = SMOTE(random_state=42, sampling_strategy='not majority')\n",
        "X_train, y_train = smote.fit_resample(X_train_imb, y_train_imb)\n",
        "\n",
        "# validation split\n",
        "X_train_sub, X_valid, y_train_sub, y_valid = train_test_split(X_train, y_train, test_size=0.5, random_state=seed, shuffle=True)"
      ]
    },
    {
      "cell_type": "markdown",
      "metadata": {},
      "source": [
        "split (normalizado):"
      ]
    },
    {
      "cell_type": "code",
      "execution_count": 52,
      "metadata": {},
      "outputs": [],
      "source": [
        "X_train_imb_norm, X_test_norm, y_train_imb_norm, y_test_norm = train_test_split(X_norm, y_norm, test_size=0.3, random_state=seed, shuffle=True)\n",
        "\n",
        "# Over-Sampling\n",
        "X_train_imb_norm = pd.concat([X_train_imb_norm, X_norm.loc[y_norm==4,:], X_norm.loc[y_norm==4,:], X_norm.loc[y_norm==4,:]], ignore_index=True)\n",
        "y_train_imb_norm = pd.concat([y_train_imb_norm, pd.Series([4]*6)], ignore_index=True)\n",
        "\n",
        "X_train_norm, y_train_norm = smote.fit_resample(X_train_imb_norm, y_train_imb_norm)\n",
        "\n",
        "# validation split\n",
        "X_train_sub_norm, X_valid_norm, y_train_sub_norm, y_valid_norm = train_test_split(X_train_norm, y_train_norm, test_size=0.5, random_state=seed, shuffle=True)"
      ]
    },
    {
      "cell_type": "markdown",
      "metadata": {
        "id": "plAw17KQS19c"
      },
      "source": [
        "logging:"
      ]
    },
    {
      "cell_type": "code",
      "execution_count": 53,
      "metadata": {
        "id": "jQtwCb38S3Jj"
      },
      "outputs": [],
      "source": [
        "logging.basicConfig(level=logging.WARN)\n",
        "logger = logging.getLogger(__name__)"
      ]
    },
    {
      "cell_type": "markdown",
      "metadata": {
        "id": "RyfxSdhgTfpo"
      },
      "source": [
        "k_scores:"
      ]
    },
    {
      "cell_type": "code",
      "execution_count": 54,
      "metadata": {
        "id": "sPN2tshaTeCt"
      },
      "outputs": [],
      "source": [
        "k_scores_cross = {}"
      ]
    },
    {
      "cell_type": "markdown",
      "metadata": {},
      "source": [
        "#### **Escolhendo o experimento**"
      ]
    },
    {
      "cell_type": "code",
      "execution_count": 56,
      "metadata": {},
      "outputs": [
        {
          "data": {
            "text/plain": [
              "<Experiment: artifact_location='file:///c:/Users/pedro/Documents/NOVOdeltadelta/pog/cd/projeto-ciencia-de-dados/mlruns/606761572229167933', creation_time=1720538661155, experiment_id='606761572229167933', last_update_time=1720538661155, lifecycle_stage='active', name='Projeto_CD', tags={}>"
            ]
          },
          "execution_count": 56,
          "metadata": {},
          "output_type": "execute_result"
        }
      ],
      "source": [
        "# set the experiment id\n",
        "mlflow.set_experiment(experiment_name=\"Projeto_CD\")"
      ]
    },
    {
      "cell_type": "markdown",
      "metadata": {
        "id": "xIwVhHgJdXaN"
      },
      "source": [
        "### Árvore de Decisão"
      ]
    },
    {
      "cell_type": "code",
      "execution_count": 76,
      "metadata": {
        "id": "1eXRnI29TXA1"
      },
      "outputs": [],
      "source": [
        "#construindo o espaco de busca por configuracoes do classificador\n",
        "criterion = ['entropy', 'gini']\n",
        "max_depth = [2,5,7,10,12,15,17,20]\n",
        "min_samples_split = [5,10,15,20,30,40,50,60]"
      ]
    },
    {
      "cell_type": "code",
      "execution_count": 77,
      "metadata": {
        "id": "_u2qB4cFSt6B"
      },
      "outputs": [],
      "source": [
        "k_scores_cross['dtree'] = []\n",
        "k_best = -1\n",
        "\n",
        "# Validation with MLFlow\n",
        "for c in criterion:\n",
        "  for md in max_depth:\n",
        "    for mss in min_samples_split:\n",
        "      # training model:\n",
        "      tmodel = DecisionTreeClassifier(criterion=c, max_depth=md, min_samples_split=mss, random_state=seed)\n",
        "      scores = cross_val_score(tmodel, X_train, y_train, cv=5, scoring='accuracy', n_jobs=-1)\n",
        "      k_scores_cross['dtree'].append(scores.mean())\n",
        "      #tmodel = tmodel.fit(X_train_sub, y_train_sub)\n",
        "\n",
        "      # Substituindo melhores scores e modelo:\n",
        "      if(k_scores_cross['dtree'][-1] > k_best):\n",
        "        k_best = k_scores_cross['dtree'][-1]\n",
        "        #k_best_id = run.info.run_id\n",
        "        tree_best = [c, md, mss] \n",
        "        dtree = tmodel\n",
        "\n",
        "dtree = dtree.fit(X_train, y_train)"
      ]
    },
    {
      "cell_type": "code",
      "execution_count": 80,
      "metadata": {},
      "outputs": [
        {
          "name": "stdout",
          "output_type": "stream",
          "text": [
            "\n",
            "[gini\t|\t12\t|\t10]\n",
            "\n",
            "      \t\tTreinamento\t| Validação\t| Teste\n",
            "Acurácia:\t0.9426751592356688\t|  0.9177215189873418\t|  0.4696969696969697\n",
            "Precisão:\t0.9439676744823803\t|  0.9233531746031748\t|  0.40095238095238095\n",
            "Recall:  \t0.9427264421571822\t|  0.9156561302681994\t|  0.5215151515151515\n",
            "F1-Score:\t0.9428009444793449\t|  0.9173488411058927\t|  0.41895978920838584\n",
            "\n"
          ]
        },
        {
          "name": "stderr",
          "output_type": "stream",
          "text": [
            "Registered model 'DecisionTree' already exists. Creating a new version of this model...\n",
            "Created version '2' of model 'DecisionTree'.\n"
          ]
        }
      ],
      "source": [
        "with mlflow.start_run() as run:\n",
        "      # accuracy, precision, recall, f1-score\n",
        "      train_scores = checkMetrics(y_train_sub, dtree.predict(X_train_sub))\n",
        "      valid_scores = checkMetrics(y_valid, dtree.predict(X_valid))\n",
        "      test_scores = checkMetrics(y_test, dtree.predict(X_test))\n",
        "\n",
        "      print(f'''\n",
        "[{tree_best[0]}\\t|\\t{tree_best[1]}\\t|\\t{tree_best[2]}]\n",
        "\n",
        "      \\t\\tTreinamento\\t| Validação\\t| Teste\n",
        "Acurácia:\\t{train_scores[0]}\\t|  {valid_scores[0]}\\t|  {test_scores[0]}\n",
        "Precisão:\\t{train_scores[1]}\\t|  {valid_scores[1]}\\t|  {test_scores[1]}\n",
        "Recall:  \\t{train_scores[2]}\\t|  {valid_scores[2]}\\t|  {test_scores[2]}\n",
        "F1-Score:\\t{train_scores[3]}\\t|  {valid_scores[3]}\\t|  {test_scores[3]}\n",
        "''')\n",
        "      mlflow.log_params({\"criterion\": tree_best[0], \"max_depth\": tree_best[1], \"min_samples_split\": tree_best[2], \"seed\": seed})\n",
        "      mlflow.log_metrics({'cross_val_score': max(k_scores_cross['dtree']), \n",
        "                          \"train_accuracy\": train_scores[0],\n",
        "                          \"train_precision\": train_scores[1],\n",
        "                          \"train_recall\": train_scores[2],\n",
        "                          \"train_f1_score\": train_scores[3],\n",
        "                          \"valid_accuracy\": valid_scores[0],\n",
        "                          \"valid_precision\": valid_scores[1],\n",
        "                          \"valid_recall\": valid_scores[2],\n",
        "                          \"valid_f1_score\": valid_scores[3],\n",
        "                          'test_accuracy': test_scores[0],\n",
        "                          'test_precision': test_scores[1],\n",
        "                          'test_recall': test_scores[2],\n",
        "                          'test_f1_score': test_scores[3]\n",
        "                          })\n",
        "      mlflow.set_tag('clf', 'dtree')\n",
        "\n",
        "      tree_best_id = run.info.run_id\n",
        "\n",
        "      #tracking_url_type_store = urlparse(mlflow.get_tracking_uri()).scheme\n",
        "\n",
        "      mlflow.sklearn.log_model(tmodel, \"model\", registered_model_name=\"DecisionTree\")"
      ]
    },
    {
      "cell_type": "code",
      "execution_count": 81,
      "metadata": {},
      "outputs": [
        {
          "name": "stdout",
          "output_type": "stream",
          "text": [
            "Decision Tree:\n",
            "    - criterion: gini\n",
            "    - max_depth: 12\n",
            "    - min_samples_split: 10\n",
            "\n",
            "cross_val_score: 0.7650793650793651\n",
            "Acurácia: 0.46969696970\n",
            "Precisão: 0.40095238095\n",
            "Recall: 0.52151515152\n",
            "F1-Score: 0.41895978921\n",
            "\n",
            "Matriz de Confusão:\n"
          ]
        },
        {
          "data": {
            "image/png": "[encoded data removed]",
            "text/plain": [
              "<Figure size 640x480 with 2 Axes>"
            ]
          },
          "metadata": {},
          "output_type": "display_data"
        }
      ],
      "source": [
        "#dtree = DecisionTreeClassifier(criterion='gini', max_depth=7, min_samples_split=10, random_state=seed).fit(X_train, y_train)\n",
        "print(f'''Decision Tree:\n",
        "    - criterion: {tree_best[0]}\n",
        "    - max_depth: {tree_best[1]}\n",
        "    - min_samples_split: {tree_best[2]}\n",
        "\n",
        "cross_val_score: {max(k_scores_cross['dtree'])}''')\n",
        "\n",
        "checkMetrics(y_test, dtree.predict(X_test), get_metrics=False, display=display_labels)"
      ]
    },
    {
      "cell_type": "markdown",
      "metadata": {
        "id": "-srCHB9tCPGr"
      },
      "source": [
        "### Random Forest"
      ]
    },
    {
      "cell_type": "code",
      "execution_count": 82,
      "metadata": {},
      "outputs": [],
      "source": [
        "#construindo o espaco de busca por configuracoes do classificador\n",
        "num_trees = [5, 10, 25, 50]\n",
        "max_depth = [2,5,7,10,12,15,17,20]\n",
        "min_samples_split = [5,10,15,20,30,40,50,60]"
      ]
    },
    {
      "cell_type": "code",
      "execution_count": 83,
      "metadata": {
        "id": "j1V7ZYl9CRgz"
      },
      "outputs": [],
      "source": [
        "# Random Forest\n",
        "k_best = -1\n",
        "k_scores_cross['rforest'] = []\n",
        "\n",
        "# Validation with MLFlow\n",
        "for nt in num_trees:\n",
        "  for md in max_depth:\n",
        "    for mss in min_samples_split:\n",
        "    \n",
        "      # training model:\n",
        "      rmodel = RandomForestClassifier(n_estimators=nt, max_depth=md, min_samples_split=mss, random_state=seed)\n",
        "      scores = cross_val_score(rmodel, X_train, y_train, cv=5, scoring='accuracy', n_jobs=-1)\n",
        "      k_scores_cross['rforest'].append(scores.mean())\n",
        "\n",
        "      # Substituindo melhores scores e modelo:\n",
        "      if(k_scores_cross['rforest'][-1] > k_best):\n",
        "        k_best = k_scores_cross['rforest'][-1]\n",
        "        rforest_best = [nt, md, mss]\n",
        "        rforest = rmodel\n",
        "        #k_best_id = run.info.run_id\n",
        "\n",
        "rforest = rforest.fit(X_train, y_train) "
      ]
    },
    {
      "cell_type": "code",
      "execution_count": 84,
      "metadata": {},
      "outputs": [
        {
          "name": "stdout",
          "output_type": "stream",
          "text": [
            "\n",
            "[50\t|\t12\t|\t10]\n",
            "\n",
            "      \t\tTreinamento\t| Validação\t| Teste\n",
            "Acurácia:\t0.9745222929936306\t|  0.9683544303797469\t|  0.5303030303030303\n",
            "Precisão:\t0.9757230751538153\t|  0.9700189753320683\t|  0.4824675324675325\n",
            "Recall:  \t0.9757230751538153\t|  0.9701867816091955\t|  0.5533333333333333\n",
            "F1-Score:\t0.9756379393355802\t|  0.9696627559958018\t|  0.4827272727272727\n",
            "\n"
          ]
        },
        {
          "name": "stderr",
          "output_type": "stream",
          "text": [
            "Registered model 'RandomForest' already exists. Creating a new version of this model...\n",
            "Created version '2' of model 'RandomForest'.\n"
          ]
        }
      ],
      "source": [
        "with mlflow.start_run() as run:\n",
        "      # accuracy, precision, recall, f1-score\n",
        "      train_scores = checkMetrics(y_train_sub, rforest.predict(X_train_sub))\n",
        "      valid_scores = checkMetrics(y_valid, rforest.predict(X_valid))\n",
        "      test_scores = checkMetrics(y_test, rforest.predict(X_test))\n",
        "\n",
        "      print(f'''\n",
        "[{rforest_best[0]}\\t|\\t{rforest_best[1]}\\t|\\t{rforest_best[2]}]\n",
        "\n",
        "      \\t\\tTreinamento\\t| Validação\\t| Teste\n",
        "Acurácia:\\t{train_scores[0]}\\t|  {valid_scores[0]}\\t|  {test_scores[0]}\n",
        "Precisão:\\t{train_scores[1]}\\t|  {valid_scores[1]}\\t|  {test_scores[1]}\n",
        "Recall:  \\t{train_scores[2]}\\t|  {valid_scores[2]}\\t|  {test_scores[2]}\n",
        "F1-Score:\\t{train_scores[3]}\\t|  {valid_scores[3]}\\t|  {test_scores[3]}\n",
        "''')\n",
        "      mlflow.log_params({\"num_trees\": rforest_best[0], \"max_depth\": rforest_best[1], \"min_samples_split\": rforest_best[2], 'seed': seed})\n",
        "      mlflow.log_metrics({'cross_val_score': max(k_scores_cross['rforest']), \n",
        "                          \"train_accuracy\": train_scores[0],\n",
        "                          \"train_precision\": train_scores[1],\n",
        "                          \"train_recall\": train_scores[2],\n",
        "                          \"train_f1_score\": train_scores[3],\n",
        "                          \"valid_accuracy\": valid_scores[0],\n",
        "                          \"valid_precision\": valid_scores[1],\n",
        "                          \"valid_recall\": valid_scores[2],\n",
        "                          \"valid_f1_score\": valid_scores[3],\n",
        "                          'test_accuracy': test_scores[0],\n",
        "                          'test_precision': test_scores[1],\n",
        "                          'test_recall': test_scores[2],\n",
        "                          'test_f1_score': test_scores[3]\n",
        "                          })\n",
        "      mlflow.set_tag('clf', 'rforest')\n",
        "\n",
        "      rforest_best_id = run.info.run_id\n",
        "\n",
        "      #tracking_url_type_store = urlparse(mlflow.get_tracking_uri()).scheme\n",
        "\n",
        "      # Model registry does not work with file store\n",
        "      #if tracking_url_type_store != \"file\":\n",
        "\n",
        "          # Register the model\n",
        "          # There are other ways to use the Model Registry, which depends on the use case,\n",
        "          # please refer to the doc for more information:\n",
        "          # https://mlflow.org/docs/latest/model-registry.html#api-workflow\n",
        "      mlflow.sklearn.log_model(rmodel, \"model\", registered_model_name=\"RandomForest\")\n",
        "      #else:\n",
        "      #    mlflow.sklearn.log_model(rmodel, \"model\")\n"
      ]
    },
    {
      "cell_type": "code",
      "execution_count": 85,
      "metadata": {},
      "outputs": [
        {
          "name": "stdout",
          "output_type": "stream",
          "text": [
            "Random Forest:\n",
            "    - num_trees: 50\n",
            "    - max_depth: 12\n",
            "    - min_samples_split: 10\n",
            "\n",
            "cross_val_score: 0.850793650793651\n",
            "Acurácia: 0.53030303030\n",
            "Precisão: 0.48246753247\n",
            "Recall: 0.55333333333\n",
            "F1-Score: 0.48272727273\n",
            "\n",
            "Matriz de Confusão:\n"
          ]
        },
        {
          "data": {
            "image/png": "[encoded data removed]",
            "text/plain": [
              "<Figure size 640x480 with 2 Axes>"
            ]
          },
          "metadata": {},
          "output_type": "display_data"
        }
      ],
      "source": [
        "print(f'''Random Forest:\n",
        "    - num_trees: {rforest_best[0]}\n",
        "    - max_depth: {rforest_best[1]}\n",
        "    - min_samples_split: {rforest_best[2]}\n",
        "\n",
        "cross_val_score: {max(k_scores_cross['rforest'])}''')\n",
        "\n",
        "checkMetrics(y_test, rforest.predict(X_test), get_metrics=False, display=display_labels)"
      ]
    },
    {
      "cell_type": "markdown",
      "metadata": {
        "id": "7zN0rCeGCR5t"
      },
      "source": [
        "### KNN"
      ]
    },
    {
      "cell_type": "markdown",
      "metadata": {},
      "source": [
        "(usar normalização para o knn)"
      ]
    },
    {
      "cell_type": "code",
      "execution_count": 86,
      "metadata": {
        "id": "aUwF2NDDCUT0"
      },
      "outputs": [],
      "source": [
        "k_best = -1\n",
        "# KNN\n",
        "k_scores_cross['knn'] = []\n",
        "# Validation with MLFlow\n",
        "for k in range(2, 20):\n",
        "    # training model:\n",
        "    kmodel = KNeighborsClassifier(n_neighbors=k)\n",
        "    scores = cross_val_score(kmodel, X_train_norm, y_train_norm, cv=5, scoring='accuracy', n_jobs=-1)\n",
        "    k_scores_cross['knn'].append(scores.mean())\n",
        "\n",
        "    # Substituindo melhores scores e modelo:\n",
        "    if(k_scores_cross['knn'][-1] > k_best):\n",
        "      k_best = k_scores_cross['knn'][-1]\n",
        "      knn_best = k\n",
        "      knn = kmodel\n",
        "      #k_best_id = run.info.run_id\n",
        "\n",
        "knn = knn.fit(X_train_norm, y_train_norm)"
      ]
    },
    {
      "cell_type": "code",
      "execution_count": 87,
      "metadata": {},
      "outputs": [
        {
          "name": "stdout",
          "output_type": "stream",
          "text": [
            "\n",
            "[3]\n",
            "\n",
            "      \t\tTreinamento\t| Validação\t| Teste\n",
            "Acurácia:\t0.9044585987261147\t|  0.8924050632911392\t|  0.45454545454545453\n",
            "Precisão:\t0.9036830378765863\t|  0.8962735439003187\t|  0.4260504201680672\n",
            "Recall:  \t0.9051853129651992\t|  0.8953735632183907\t|  0.5193939393939394\n",
            "F1-Score:\t0.9026388746879339\t|  0.893721222164887\t|  0.3978759018759018\n",
            "\n"
          ]
        },
        {
          "name": "stderr",
          "output_type": "stream",
          "text": [
            "Registered model 'KNN' already exists. Creating a new version of this model...\n",
            "Created version '2' of model 'KNN'.\n"
          ]
        }
      ],
      "source": [
        "with mlflow.start_run() as run:\n",
        "        # accuracy, precision, recall, f1-score\n",
        "    train_scores = checkMetrics(y_train_sub_norm, knn.predict(X_train_sub_norm))\n",
        "    valid_scores = checkMetrics(y_valid_norm, knn.predict(X_valid_norm))\n",
        "    test_scores = checkMetrics(y_test_norm, knn.predict(X_test_norm))\n",
        "\n",
        "    print(f'''\n",
        "[{knn_best}]\n",
        "\n",
        "      \\t\\tTreinamento\\t| Validação\\t| Teste\n",
        "Acurácia:\\t{train_scores[0]}\\t|  {valid_scores[0]}\\t|  {test_scores[0]}\n",
        "Precisão:\\t{train_scores[1]}\\t|  {valid_scores[1]}\\t|  {test_scores[1]}\n",
        "Recall:  \\t{train_scores[2]}\\t|  {valid_scores[2]}\\t|  {test_scores[2]}\n",
        "F1-Score:\\t{train_scores[3]}\\t|  {valid_scores[3]}\\t|  {test_scores[3]}\n",
        "''')\n",
        "\n",
        "    mlflow.log_params({\"k\": knn_best, 'seed': seed})\n",
        "    mlflow.log_metrics({'cross_val_score': max(k_scores_cross['knn']), \n",
        "                            \"train_accuracy\": train_scores[0],\n",
        "                            \"train_precision\": train_scores[1],\n",
        "                            \"train_recall\": train_scores[2],\n",
        "                            \"train_f1_score\": train_scores[3],\n",
        "                            \"valid_accuracy\": valid_scores[0],\n",
        "                            \"valid_precision\": valid_scores[1],\n",
        "                            \"valid_recall\": valid_scores[2],\n",
        "                            \"valid_f1_score\": valid_scores[3],\n",
        "                            'test_accuracy': test_scores[0],\n",
        "                            'test_precision': test_scores[1],\n",
        "                            'test_recall': test_scores[2],\n",
        "                            'test_f1_score': test_scores[3]\n",
        "                            })\n",
        "    mlflow.set_tag('clf', 'knn')\n",
        "\n",
        "    #tracking_url_type_store = urlparse(mlflow.get_tracking_uri()).scheme\n",
        "\n",
        "    # Model registry does not work with file store\n",
        "    #if tracking_url_type_store != \"file\":\n",
        "\n",
        "        # Register the model\n",
        "        # There are other ways to use the Model Registry, which depends on the use case,\n",
        "        # please refer to the doc for more information:\n",
        "        # https://mlflow.org/docs/latest/model-registry.html#api-workflow\n",
        "    mlflow.sklearn.log_model(kmodel, \"model\", registered_model_name=\"KNN\")\n",
        "    #else:\n",
        "    #    mlflow.sklearn.log_model(kmodel, \"model\")"
      ]
    },
    {
      "cell_type": "code",
      "execution_count": 88,
      "metadata": {},
      "outputs": [
        {
          "name": "stdout",
          "output_type": "stream",
          "text": [
            "K-NearestNeighbours:\n",
            "    - num_neighbours: 3\n",
            "\n",
            "cross_val_score: 0.7682539682539682\n",
            "Acurácia: 0.45454545455\n",
            "Precisão: 0.42605042017\n",
            "Recall: 0.51939393939\n",
            "F1-Score: 0.39787590188\n",
            "\n",
            "Matriz de Confusão:\n"
          ]
        },
        {
          "data": {
            "image/png": "[encoded data removed]",
            "text/plain": [
              "<Figure size 640x480 with 2 Axes>"
            ]
          },
          "metadata": {},
          "output_type": "display_data"
        }
      ],
      "source": [
        "print(f'''K-NearestNeighbours:\n",
        "    - num_neighbours: {knn_best}\n",
        "\n",
        "cross_val_score: {max(k_scores_cross['knn'])}''')\n",
        "\n",
        "checkMetrics(y_test_norm, knn.predict(X_test_norm), get_metrics=False, display=display_labels)"
      ]
    },
    {
      "cell_type": "markdown",
      "metadata": {
        "id": "Pytz-3TACUpj"
      },
      "source": [
        "### SVM"
      ]
    },
    {
      "cell_type": "code",
      "execution_count": null,
      "metadata": {
        "id": "DdCNji2ECX2o"
      },
      "outputs": [],
      "source": []
    },
    {
      "cell_type": "markdown",
      "metadata": {
        "id": "KPK_UFX7CZf_"
      },
      "source": [
        "### Resto?"
      ]
    },
    {
      "cell_type": "code",
      "execution_count": null,
      "metadata": {
        "id": "2mtFIszPfa8N"
      },
      "outputs": [],
      "source": [
        "logging.basicConfig(level=logging.WARN)\n",
        "logger = logging.getLogger(__name__)\n",
        "\n",
        "\n",
        "def eval_metrics(actual, pred):\n",
        "    rmse = np.sqrt(mean_squared_error(actual, pred))\n",
        "    mae = mean_absolute_error(actual, pred)\n",
        "    r2 = r2_score(actual, pred)\n",
        "    return rmse, mae, r2\n",
        "\n",
        "\n",
        "if __name__ == \"__main__\":\n",
        "    warnings.filterwarnings(\"ignore\")\n",
        "    np.random.seed(40)\n",
        "\n",
        "    # Read the wine-quality csv file from the URL\n",
        "    csv_url = (\n",
        "        \"http://archive.ics.uci.edu/ml/machine-learning-databases/wine-quality/winequality-red.csv\"\n",
        "    )\n",
        "    try:\n",
        "        data = pd.read_csv(csv_url, sep=\";\")\n",
        "    except Exception as e:\n",
        "        logger.exception(\n",
        "            \"Unable to download training & test CSV, check your internet connection. Error: %s\", e\n",
        "        )\n",
        "\n",
        "    # Split the data into training and test sets. (0.75, 0.25) split.\n",
        "    train, test = train_test_split(data)\n",
        "\n",
        "    # The predicted column is \"quality\" which is a scalar from [3, 9]\n",
        "    train_x = train.drop([\"quality\"], axis=1)\n",
        "    test_x = test.drop([\"quality\"], axis=1)\n",
        "    train_y = train[[\"quality\"]]\n",
        "    test_y = test[[\"quality\"]]\n",
        "\n",
        "    alpha = 1 #float(sys.argv[1]) if len(sys.argv) > 1 else 0.5\n",
        "    l1_ratio = 1 #float(sys.argv[2]) if len(sys.argv) > 2 else 0.5\n",
        "\n",
        "    with mlflow.start_run():\n",
        "        lr = ElasticNet(alpha=alpha, l1_ratio=l1_ratio, random_state=42)\n",
        "        lr.fit(train_x, train_y)\n",
        "\n",
        "        predicted_qualities = lr.predict(test_x)\n",
        "\n",
        "        (rmse, mae, r2) = eval_metrics(test_y, predicted_qualities)\n",
        "\n",
        "        print(\"Elasticnet model (alpha=%f, l1_ratio=%f):\" % (alpha, l1_ratio))\n",
        "        print(\"  RMSE: %s\" % rmse)\n",
        "        print(\"  MAE: %s\" % mae)\n",
        "        print(\"  R2: %s\" % r2)\n",
        "\n",
        "        mlflow.log_param(\"alpha\", alpha)\n",
        "        mlflow.log_param(\"l1_ratio\", l1_ratio)\n",
        "        mlflow.log_metric(\"rmse\", rmse)\n",
        "        mlflow.log_metric(\"r2\", r2)\n",
        "        mlflow.log_metric(\"mae\", mae)\n",
        "\n",
        "        tracking_url_type_store = urlparse(mlflow.get_tracking_uri()).scheme\n",
        "\n",
        "        # Model registry does not work with file store\n",
        "        if tracking_url_type_store != \"file\":\n",
        "\n",
        "            # Register the model\n",
        "            # There are other ways to use the Model Registry, which depends on the use case,\n",
        "            # please refer to the doc for more information:\n",
        "            # https://mlflow.org/docs/latest/model-registry.html#api-workflow\n",
        "            mlflow.sklearn.log_model(lr, \"model\", registered_model_name=\"ElasticnetWineModel\")\n",
        "        else:\n",
        "            mlflow.sklearn.log_model(lr, \"model\")\n",
        "\n",
        "'''!ls -l mlruns/0/fb27c54b21a4452486670b7bd806d477/params'''\n",
        "\n",
        "'''!less mlruns/0/fb27c54b21a4452486670b7bd806d477/metrics/mae'''"
      ]
    }
  ],
  "metadata": {
    "colab": {
      "include_colab_link": true,
      "provenance": [],
      "toc_visible": true
    },
    "kernelspec": {
      "display_name": "Python 3",
      "name": "python3"
    },
    "language_info": {
      "codemirror_mode": {
        "name": "ipython",
        "version": 3
      },
      "file_extension": ".py",
      "mimetype": "text/x-python",
      "name": "python",
      "nbconvert_exporter": "python",
      "pygments_lexer": "ipython3",
      "version": "3.12.2"
    }
  },
  "nbformat": 4,
  "nbformat_minor": 0
}
